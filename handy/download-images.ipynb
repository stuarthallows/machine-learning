{
 "cells": [
  {
   "cell_type": "markdown",
   "metadata": {},
   "source": [
    "# File Download and allocation\n",
    "\n",
    "Download files from flickr and distribute to test / validation folder   \n",
    "https://github.com/alexis-mignon/python-flickr-api"
   ]
  },
  {
   "cell_type": "code",
   "execution_count": 1,
   "metadata": {},
   "outputs": [],
   "source": [
    "# !pip install flickr_api"
   ]
  },
  {
   "cell_type": "markdown",
   "metadata": {},
   "source": [
    "Store the API key and secret"
   ]
  },
  {
   "cell_type": "code",
   "execution_count": 2,
   "metadata": {},
   "outputs": [],
   "source": [
    "import flickr_api\n",
    "flickr_api.set_keys(api_key = 'eac54051a149820ae08697749a304ea3', api_secret = '4f85b3fcb07e9365')"
   ]
  },
  {
   "cell_type": "code",
   "execution_count": 3,
   "metadata": {},
   "outputs": [],
   "source": [
    "import ipywidgets as widgets\n",
    "from IPython.display import display\n",
    "import flickr_api\n",
    "\n",
    "def download_images(tags, directory_name, file_count=20):\n",
    "    os.makedirs(directory_name, exist_ok=True)\n",
    "\n",
    "    progress = widgets.IntProgress(max=file_count, bar_style='info', description='downloading')\n",
    "    display(progress)\n",
    "\n",
    "    photos = flickr_api.Photo.search(tags=tags, tag_mode='all', content_type=1, media='photos', per_page=file_count, page=1)\n",
    "\n",
    "    for photo in photos:\n",
    "        path = os.path.join(directory_name, photo.id)\n",
    "        photo.save(filename=path, size_label='Medium')\n",
    "        progress.value += 1"
   ]
  },
  {
   "cell_type": "code",
   "execution_count": 4,
   "metadata": {},
   "outputs": [],
   "source": [
    "import os\n",
    "import random\n",
    "import shutil\n",
    "import numpy as np\n",
    "\n",
    "def move_random_files(_from, to, sample_size=0.2):\n",
    "    _, _, files = next(os.walk(_from))\n",
    "\n",
    "    sample_size_type = np.asarray(sample_size).dtype.kind\n",
    "    \n",
    "    if sample_size_type == 'f':\n",
    "        if sample_size > 1.:\n",
    "            raise ValueError(f'sample_size={sample_size} should be <= 1.0 or be an integer')\n",
    "    elif sample_size_type == 'i':\n",
    "        if sample_size > len(files):\n",
    "            raise ValueError(f'sample_size={sample_size} cannot be more than the number of files={len(files)}')\n",
    "    else:\n",
    "        raise ValueError(f'Invalid value for sample_size: {sample_size}')\n",
    "\n",
    "    os.makedirs(to, exist_ok=True)\n",
    "   \n",
    "    file_count = int(len(files) * sample_size) if sample_size_type == 'f' else sample_size\n",
    "    print(f'moving {file_count} files from \"{_from}\" to \"{to}\"')\n",
    "    \n",
    "    sample = random.sample(files, file_count)\n",
    "    \n",
    "    for filename in sample:\n",
    "        shutil.move(os.path.join(_from, filename), os.path.join(to, filename))"
   ]
  },
  {
   "cell_type": "code",
   "execution_count": 5,
   "metadata": {},
   "outputs": [
    {
     "data": {
      "application/vnd.jupyter.widget-view+json": {
       "model_id": "4027c92c952c48899a45e6930802cebe",
       "version_major": 2,
       "version_minor": 0
      },
      "text/plain": [
       "IntProgress(value=0, bar_style='info', description='downloading', max=10)"
      ]
     },
     "metadata": {},
     "output_type": "display_data"
    }
   ],
   "source": [
    "download_images('cat', 'samples\\cats', 10)"
   ]
  },
  {
   "cell_type": "code",
   "execution_count": 49,
   "metadata": {},
   "outputs": [
    {
     "name": "stdout",
     "output_type": "stream",
     "text": [
      "moving 8 files from \"samples\\goats\" to \"samples\\goats\\train\"\n",
      "moving 2 files from \"samples\\goats\" to \"samples\\goats\\test\"\n"
     ]
    }
   ],
   "source": [
    "move_random_files(\"samples\\\\goats\", \"samples\\\\goats\\\\train\", 0.8)\n",
    "move_random_files(\"samples\\\\goats\", \"samples\\\\goats\\\\test\", 1.0)"
   ]
  },
  {
   "cell_type": "code",
   "execution_count": 50,
   "metadata": {},
   "outputs": [
    {
     "name": "stdout",
     "output_type": "stream",
     "text": [
      "moving 8 files from \"samples\\goats\\train\" to \"samples\\goats\"\n",
      "moving 2 files from \"samples\\goats\\test\" to \"samples\\goats\"\n"
     ]
    }
   ],
   "source": [
    "move_random_files(\"samples\\\\goats\\\\train\", \"samples\\\\goats\", 1.0)\n",
    "move_random_files(\"samples\\\\goats\\\\test\", \"samples\\\\goats\", 1.0)"
   ]
  },
  {
   "cell_type": "code",
   "execution_count": null,
   "metadata": {},
   "outputs": [],
   "source": []
  }
 ],
 "metadata": {
  "kernelspec": {
   "display_name": "Python 3",
   "language": "python",
   "name": "python3"
  },
  "language_info": {
   "codemirror_mode": {
    "name": "ipython",
    "version": 3
   },
   "file_extension": ".py",
   "mimetype": "text/x-python",
   "name": "python",
   "nbconvert_exporter": "python",
   "pygments_lexer": "ipython3",
   "version": "3.6.6"
  }
 },
 "nbformat": 4,
 "nbformat_minor": 2
}
