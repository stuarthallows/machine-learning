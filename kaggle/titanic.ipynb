{
 "cells": [
  {
   "cell_type": "markdown",
   "metadata": {},
   "source": [
    "# Titanic: Machine Learning from Disaster"
   ]
  },
  {
   "cell_type": "markdown",
   "metadata": {},
   "source": [
    "From the Kaggle competition [description](https://www.kaggle.com/c/titanic/data) ...\n",
    "\n",
    "<blockquote>In this challenge, we ask you to complete the analysis of what sorts of people were likely to survive. In particular, we ask you to apply the tools of machine learning to predict which passengers survived the tragedy.</blockquote>"
   ]
  },
  {
   "cell_type": "markdown",
   "metadata": {},
   "source": [
    "#### TODO\n",
    "* Continue exploring evaluarion, dumping out CV stats and results from XGB  \n",
    "* Then experiment with params to try and boost scores"
   ]
  },
  {
   "cell_type": "code",
   "execution_count": 48,
   "metadata": {},
   "outputs": [],
   "source": [
    "import math\n",
    "import pandas as pd\n",
    "import numpy as np\n",
    "\n",
    "# Do not use normal form (scietific notation) when printing numbers, exponents can make it harder to compare values\n",
    "pd.set_option('float_format', '{:f}'.format)\n",
    "\n",
    "import matplotlib.pyplot as plt\n",
    "import seaborn as sns\n",
    "#%pylab inline\n",
    "# pylab.rcParams['figure.figsize'] = (15, 6)\n",
    "\n",
    "from scipy.stats import uniform, randint\n",
    "\n",
    "import sklearn\n",
    "from sklearn.linear_model import LinearRegression\n",
    "from sklearn.metrics import accuracy_score, mean_squared_error\n",
    "from sklearn.model_selection import GridSearchCV, RandomizedSearchCV\n",
    "from sklearn.preprocessing import StandardScaler"
   ]
  },
  {
   "cell_type": "code",
   "execution_count": 2,
   "metadata": {},
   "outputs": [
    {
     "data": {
      "text/plain": [
       "'numpy: 1.15.1, pandas: 0.23.4, sklearn: 0.19.1'"
      ]
     },
     "execution_count": 2,
     "metadata": {},
     "output_type": "execute_result"
    }
   ],
   "source": [
    "'numpy: {}, pandas: {}, sklearn: {}'.format(np.__version__, pd.__version__, sklearn.__version__)"
   ]
  },
  {
   "cell_type": "markdown",
   "metadata": {},
   "source": [
    "## Import"
   ]
  },
  {
   "cell_type": "code",
   "execution_count": 3,
   "metadata": {},
   "outputs": [],
   "source": [
    "def read_titanic_data(filename):\n",
    "    return pd.read_csv(\"../datasets/kaggle/titanic/\" + filename, index_col=\"PassengerId\")"
   ]
  },
  {
   "cell_type": "code",
   "execution_count": 4,
   "metadata": {},
   "outputs": [],
   "source": [
    "train_data = read_titanic_data(\"train.csv\")\n",
    "test_data = read_titanic_data(\"test.csv\")"
   ]
  },
  {
   "cell_type": "code",
   "execution_count": 5,
   "metadata": {},
   "outputs": [],
   "source": [
    "X_train = train_data.drop([\"Survived\"], axis=1)\n",
    "y_train = train_data[\"Survived\"].copy()\n",
    "X_test = test_data.copy()"
   ]
  },
  {
   "cell_type": "markdown",
   "metadata": {},
   "source": [
    "## Explore"
   ]
  },
  {
   "cell_type": "code",
   "execution_count": 79,
   "metadata": {},
   "outputs": [
    {
     "data": {
      "text/html": [
       "<div>\n",
       "<style scoped>\n",
       "    .dataframe tbody tr th:only-of-type {\n",
       "        vertical-align: middle;\n",
       "    }\n",
       "\n",
       "    .dataframe tbody tr th {\n",
       "        vertical-align: top;\n",
       "    }\n",
       "\n",
       "    .dataframe thead th {\n",
       "        text-align: right;\n",
       "    }\n",
       "</style>\n",
       "<table border=\"1\" class=\"dataframe\">\n",
       "  <thead>\n",
       "    <tr style=\"text-align: right;\">\n",
       "      <th></th>\n",
       "      <th>Survived</th>\n",
       "      <th>Pclass</th>\n",
       "      <th>Name</th>\n",
       "      <th>Sex</th>\n",
       "      <th>Age</th>\n",
       "      <th>SibSp</th>\n",
       "      <th>Parch</th>\n",
       "      <th>Ticket</th>\n",
       "      <th>Fare</th>\n",
       "      <th>Cabin</th>\n",
       "      <th>Embarked</th>\n",
       "    </tr>\n",
       "    <tr>\n",
       "      <th>PassengerId</th>\n",
       "      <th></th>\n",
       "      <th></th>\n",
       "      <th></th>\n",
       "      <th></th>\n",
       "      <th></th>\n",
       "      <th></th>\n",
       "      <th></th>\n",
       "      <th></th>\n",
       "      <th></th>\n",
       "      <th></th>\n",
       "      <th></th>\n",
       "    </tr>\n",
       "  </thead>\n",
       "  <tbody>\n",
       "    <tr>\n",
       "      <th>1</th>\n",
       "      <td>0</td>\n",
       "      <td>3</td>\n",
       "      <td>Braund, Mr. Owen Harris</td>\n",
       "      <td>male</td>\n",
       "      <td>22.000000</td>\n",
       "      <td>1</td>\n",
       "      <td>0</td>\n",
       "      <td>A/5 21171</td>\n",
       "      <td>7.250000</td>\n",
       "      <td>NaN</td>\n",
       "      <td>S</td>\n",
       "    </tr>\n",
       "    <tr>\n",
       "      <th>2</th>\n",
       "      <td>1</td>\n",
       "      <td>1</td>\n",
       "      <td>Cumings, Mrs. John Bradley (Florence Briggs Th...</td>\n",
       "      <td>female</td>\n",
       "      <td>38.000000</td>\n",
       "      <td>1</td>\n",
       "      <td>0</td>\n",
       "      <td>PC 17599</td>\n",
       "      <td>71.283300</td>\n",
       "      <td>C85</td>\n",
       "      <td>C</td>\n",
       "    </tr>\n",
       "    <tr>\n",
       "      <th>3</th>\n",
       "      <td>1</td>\n",
       "      <td>3</td>\n",
       "      <td>Heikkinen, Miss. Laina</td>\n",
       "      <td>female</td>\n",
       "      <td>26.000000</td>\n",
       "      <td>0</td>\n",
       "      <td>0</td>\n",
       "      <td>STON/O2. 3101282</td>\n",
       "      <td>7.925000</td>\n",
       "      <td>NaN</td>\n",
       "      <td>S</td>\n",
       "    </tr>\n",
       "    <tr>\n",
       "      <th>4</th>\n",
       "      <td>1</td>\n",
       "      <td>1</td>\n",
       "      <td>Futrelle, Mrs. Jacques Heath (Lily May Peel)</td>\n",
       "      <td>female</td>\n",
       "      <td>35.000000</td>\n",
       "      <td>1</td>\n",
       "      <td>0</td>\n",
       "      <td>113803</td>\n",
       "      <td>53.100000</td>\n",
       "      <td>C123</td>\n",
       "      <td>S</td>\n",
       "    </tr>\n",
       "    <tr>\n",
       "      <th>5</th>\n",
       "      <td>0</td>\n",
       "      <td>3</td>\n",
       "      <td>Allen, Mr. William Henry</td>\n",
       "      <td>male</td>\n",
       "      <td>35.000000</td>\n",
       "      <td>0</td>\n",
       "      <td>0</td>\n",
       "      <td>373450</td>\n",
       "      <td>8.050000</td>\n",
       "      <td>NaN</td>\n",
       "      <td>S</td>\n",
       "    </tr>\n",
       "  </tbody>\n",
       "</table>\n",
       "</div>"
      ],
      "text/plain": [
       "             Survived  Pclass  \\\n",
       "PassengerId                     \n",
       "1                   0       3   \n",
       "2                   1       1   \n",
       "3                   1       3   \n",
       "4                   1       1   \n",
       "5                   0       3   \n",
       "\n",
       "                                                          Name     Sex  \\\n",
       "PassengerId                                                              \n",
       "1                                      Braund, Mr. Owen Harris    male   \n",
       "2            Cumings, Mrs. John Bradley (Florence Briggs Th...  female   \n",
       "3                                       Heikkinen, Miss. Laina  female   \n",
       "4                 Futrelle, Mrs. Jacques Heath (Lily May Peel)  female   \n",
       "5                                     Allen, Mr. William Henry    male   \n",
       "\n",
       "                  Age  SibSp  Parch            Ticket      Fare Cabin Embarked  \n",
       "PassengerId                                                                     \n",
       "1           22.000000      1      0         A/5 21171  7.250000   NaN        S  \n",
       "2           38.000000      1      0          PC 17599 71.283300   C85        C  \n",
       "3           26.000000      0      0  STON/O2. 3101282  7.925000   NaN        S  \n",
       "4           35.000000      1      0            113803 53.100000  C123        S  \n",
       "5           35.000000      0      0            373450  8.050000   NaN        S  "
      ]
     },
     "execution_count": 79,
     "metadata": {},
     "output_type": "execute_result"
    }
   ],
   "source": [
    "train_data.head()"
   ]
  },
  {
   "cell_type": "code",
   "execution_count": 7,
   "metadata": {},
   "outputs": [
    {
     "name": "stdout",
     "output_type": "stream",
     "text": [
      "<class 'pandas.core.frame.DataFrame'>\n",
      "Int64Index: 891 entries, 1 to 891\n",
      "Data columns (total 11 columns):\n",
      "Survived    891 non-null int64\n",
      "Pclass      891 non-null int64\n",
      "Name        891 non-null object\n",
      "Sex         891 non-null object\n",
      "Age         714 non-null float64\n",
      "SibSp       891 non-null int64\n",
      "Parch       891 non-null int64\n",
      "Ticket      891 non-null object\n",
      "Fare        891 non-null float64\n",
      "Cabin       204 non-null object\n",
      "Embarked    889 non-null object\n",
      "dtypes: float64(2), int64(4), object(5)\n",
      "memory usage: 83.5+ KB\n"
     ]
    }
   ],
   "source": [
    "train_data.info()"
   ]
  },
  {
   "cell_type": "code",
   "execution_count": 8,
   "metadata": {},
   "outputs": [
    {
     "data": {
      "text/html": [
       "<div>\n",
       "<style scoped>\n",
       "    .dataframe tbody tr th:only-of-type {\n",
       "        vertical-align: middle;\n",
       "    }\n",
       "\n",
       "    .dataframe tbody tr th {\n",
       "        vertical-align: top;\n",
       "    }\n",
       "\n",
       "    .dataframe thead th {\n",
       "        text-align: right;\n",
       "    }\n",
       "</style>\n",
       "<table border=\"1\" class=\"dataframe\">\n",
       "  <thead>\n",
       "    <tr style=\"text-align: right;\">\n",
       "      <th></th>\n",
       "      <th>Survived</th>\n",
       "      <th>Pclass</th>\n",
       "      <th>Age</th>\n",
       "      <th>SibSp</th>\n",
       "      <th>Parch</th>\n",
       "      <th>Fare</th>\n",
       "    </tr>\n",
       "  </thead>\n",
       "  <tbody>\n",
       "    <tr>\n",
       "      <th>count</th>\n",
       "      <td>891.000000</td>\n",
       "      <td>891.000000</td>\n",
       "      <td>714.000000</td>\n",
       "      <td>891.000000</td>\n",
       "      <td>891.000000</td>\n",
       "      <td>891.000000</td>\n",
       "    </tr>\n",
       "    <tr>\n",
       "      <th>mean</th>\n",
       "      <td>0.383838</td>\n",
       "      <td>2.308642</td>\n",
       "      <td>29.699118</td>\n",
       "      <td>0.523008</td>\n",
       "      <td>0.381594</td>\n",
       "      <td>32.204208</td>\n",
       "    </tr>\n",
       "    <tr>\n",
       "      <th>std</th>\n",
       "      <td>0.486592</td>\n",
       "      <td>0.836071</td>\n",
       "      <td>14.526497</td>\n",
       "      <td>1.102743</td>\n",
       "      <td>0.806057</td>\n",
       "      <td>49.693429</td>\n",
       "    </tr>\n",
       "    <tr>\n",
       "      <th>min</th>\n",
       "      <td>0.000000</td>\n",
       "      <td>1.000000</td>\n",
       "      <td>0.420000</td>\n",
       "      <td>0.000000</td>\n",
       "      <td>0.000000</td>\n",
       "      <td>0.000000</td>\n",
       "    </tr>\n",
       "    <tr>\n",
       "      <th>25%</th>\n",
       "      <td>0.000000</td>\n",
       "      <td>2.000000</td>\n",
       "      <td>20.125000</td>\n",
       "      <td>0.000000</td>\n",
       "      <td>0.000000</td>\n",
       "      <td>7.910400</td>\n",
       "    </tr>\n",
       "    <tr>\n",
       "      <th>50%</th>\n",
       "      <td>0.000000</td>\n",
       "      <td>3.000000</td>\n",
       "      <td>28.000000</td>\n",
       "      <td>0.000000</td>\n",
       "      <td>0.000000</td>\n",
       "      <td>14.454200</td>\n",
       "    </tr>\n",
       "    <tr>\n",
       "      <th>75%</th>\n",
       "      <td>1.000000</td>\n",
       "      <td>3.000000</td>\n",
       "      <td>38.000000</td>\n",
       "      <td>1.000000</td>\n",
       "      <td>0.000000</td>\n",
       "      <td>31.000000</td>\n",
       "    </tr>\n",
       "    <tr>\n",
       "      <th>max</th>\n",
       "      <td>1.000000</td>\n",
       "      <td>3.000000</td>\n",
       "      <td>80.000000</td>\n",
       "      <td>8.000000</td>\n",
       "      <td>6.000000</td>\n",
       "      <td>512.329200</td>\n",
       "    </tr>\n",
       "  </tbody>\n",
       "</table>\n",
       "</div>"
      ],
      "text/plain": [
       "        Survived     Pclass        Age      SibSp      Parch       Fare\n",
       "count 891.000000 891.000000 714.000000 891.000000 891.000000 891.000000\n",
       "mean    0.383838   2.308642  29.699118   0.523008   0.381594  32.204208\n",
       "std     0.486592   0.836071  14.526497   1.102743   0.806057  49.693429\n",
       "min     0.000000   1.000000   0.420000   0.000000   0.000000   0.000000\n",
       "25%     0.000000   2.000000  20.125000   0.000000   0.000000   7.910400\n",
       "50%     0.000000   3.000000  28.000000   0.000000   0.000000  14.454200\n",
       "75%     1.000000   3.000000  38.000000   1.000000   0.000000  31.000000\n",
       "max     1.000000   3.000000  80.000000   8.000000   6.000000 512.329200"
      ]
     },
     "execution_count": 8,
     "metadata": {},
     "output_type": "execute_result"
    }
   ],
   "source": [
    "train_data.describe()"
   ]
  },
  {
   "cell_type": "markdown",
   "metadata": {},
   "source": [
    "View the distribution of categorical data"
   ]
  },
  {
   "cell_type": "code",
   "execution_count": 9,
   "metadata": {},
   "outputs": [
    {
     "data": {
      "text/html": [
       "<div>\n",
       "<style scoped>\n",
       "    .dataframe tbody tr th:only-of-type {\n",
       "        vertical-align: middle;\n",
       "    }\n",
       "\n",
       "    .dataframe tbody tr th {\n",
       "        vertical-align: top;\n",
       "    }\n",
       "\n",
       "    .dataframe thead th {\n",
       "        text-align: right;\n",
       "    }\n",
       "</style>\n",
       "<table border=\"1\" class=\"dataframe\">\n",
       "  <thead>\n",
       "    <tr style=\"text-align: right;\">\n",
       "      <th></th>\n",
       "      <th>Name</th>\n",
       "      <th>Sex</th>\n",
       "      <th>Ticket</th>\n",
       "      <th>Cabin</th>\n",
       "      <th>Embarked</th>\n",
       "    </tr>\n",
       "  </thead>\n",
       "  <tbody>\n",
       "    <tr>\n",
       "      <th>count</th>\n",
       "      <td>891</td>\n",
       "      <td>891</td>\n",
       "      <td>891</td>\n",
       "      <td>204</td>\n",
       "      <td>889</td>\n",
       "    </tr>\n",
       "    <tr>\n",
       "      <th>unique</th>\n",
       "      <td>891</td>\n",
       "      <td>2</td>\n",
       "      <td>681</td>\n",
       "      <td>147</td>\n",
       "      <td>3</td>\n",
       "    </tr>\n",
       "    <tr>\n",
       "      <th>top</th>\n",
       "      <td>Troupiansky, Mr. Moses Aaron</td>\n",
       "      <td>male</td>\n",
       "      <td>CA. 2343</td>\n",
       "      <td>B96 B98</td>\n",
       "      <td>S</td>\n",
       "    </tr>\n",
       "    <tr>\n",
       "      <th>freq</th>\n",
       "      <td>1</td>\n",
       "      <td>577</td>\n",
       "      <td>7</td>\n",
       "      <td>4</td>\n",
       "      <td>644</td>\n",
       "    </tr>\n",
       "  </tbody>\n",
       "</table>\n",
       "</div>"
      ],
      "text/plain": [
       "                                Name   Sex    Ticket    Cabin Embarked\n",
       "count                            891   891       891      204      889\n",
       "unique                           891     2       681      147        3\n",
       "top     Troupiansky, Mr. Moses Aaron  male  CA. 2343  B96 B98        S\n",
       "freq                               1   577         7        4      644"
      ]
     },
     "execution_count": 9,
     "metadata": {},
     "output_type": "execute_result"
    }
   ],
   "source": [
    "train_data.describe(include=np.object)"
   ]
  },
  {
   "cell_type": "code",
   "execution_count": 10,
   "metadata": {},
   "outputs": [
    {
     "data": {
      "text/plain": [
       "(891, 11)"
      ]
     },
     "execution_count": 10,
     "metadata": {},
     "output_type": "execute_result"
    }
   ],
   "source": [
    "train_data.shape"
   ]
  },
  {
   "cell_type": "markdown",
   "metadata": {},
   "source": [
    "View histograms of all numeric features"
   ]
  },
  {
   "cell_type": "code",
   "execution_count": 11,
   "metadata": {},
   "outputs": [
    {
     "data": {
      "text/plain": [
       "array([[<matplotlib.axes._subplots.AxesSubplot object at 0x000002A936D49E10>,\n",
       "        <matplotlib.axes._subplots.AxesSubplot object at 0x000002A936FE6F98>],\n",
       "       [<matplotlib.axes._subplots.AxesSubplot object at 0x000002A93701B2E8>,\n",
       "        <matplotlib.axes._subplots.AxesSubplot object at 0x000002A9370455F8>],\n",
       "       [<matplotlib.axes._subplots.AxesSubplot object at 0x000002A93706C8D0>,\n",
       "        <matplotlib.axes._subplots.AxesSubplot object at 0x000002A93706C908>]],\n",
       "      dtype=object)"
      ]
     },
     "execution_count": 11,
     "metadata": {},
     "output_type": "execute_result"
    },
    {
     "data": {
      "image/png": "[encoded data removed]",
      "text/plain": [
       "<Figure size 864x576 with 6 Axes>"
      ]
     },
     "metadata": {},
     "output_type": "display_data"
    }
   ],
   "source": [
    "train_data.hist(bins=50, figsize=(12, 8))"
   ]
  },
  {
   "cell_type": "code",
   "execution_count": 12,
   "metadata": {},
   "outputs": [
    {
     "data": {
      "text/plain": [
       "array([[<matplotlib.axes._subplots.AxesSubplot object at 0x000002A937109940>,\n",
       "        <matplotlib.axes._subplots.AxesSubplot object at 0x000002A9376E2470>,\n",
       "        <matplotlib.axes._subplots.AxesSubplot object at 0x000002A93771C550>,\n",
       "        <matplotlib.axes._subplots.AxesSubplot object at 0x000002A9373CDBE0>],\n",
       "       [<matplotlib.axes._subplots.AxesSubplot object at 0x000002A9373FA240>,\n",
       "        <matplotlib.axes._subplots.AxesSubplot object at 0x000002A9373FA278>,\n",
       "        <matplotlib.axes._subplots.AxesSubplot object at 0x000002A93744CF28>,\n",
       "        <matplotlib.axes._subplots.AxesSubplot object at 0x000002A93747E5F8>],\n",
       "       [<matplotlib.axes._subplots.AxesSubplot object at 0x000002A9374A2C88>,\n",
       "        <matplotlib.axes._subplots.AxesSubplot object at 0x000002A9374D7358>,\n",
       "        <matplotlib.axes._subplots.AxesSubplot object at 0x000002A9374FF9E8>,\n",
       "        <matplotlib.axes._subplots.AxesSubplot object at 0x000002A9375300B8>],\n",
       "       [<matplotlib.axes._subplots.AxesSubplot object at 0x000002A937557748>,\n",
       "        <matplotlib.axes._subplots.AxesSubplot object at 0x000002A937893DD8>,\n",
       "        <matplotlib.axes._subplots.AxesSubplot object at 0x000002A9378C24A8>,\n",
       "        <matplotlib.axes._subplots.AxesSubplot object at 0x000002A9378E9B38>]],\n",
       "      dtype=object)"
      ]
     },
     "execution_count": 12,
     "metadata": {},
     "output_type": "execute_result"
    },
    {
     "data": {
      "image/png": "[encoded data removed]",
      "text/plain": [
       "<Figure size 864x576 with 16 Axes>"
      ]
     },
     "metadata": {},
     "output_type": "display_data"
    }
   ],
   "source": [
    "from pandas.plotting import scatter_matrix\n",
    "\n",
    "scatter_features = [\"Survived\", \"Pclass\", \"Fare\", \"Age\"]\n",
    "scatter_matrix(train_data[scatter_features], figsize=(12, 8))"
   ]
  },
  {
   "cell_type": "code",
   "execution_count": 13,
   "metadata": {},
   "outputs": [
    {
     "data": {
      "text/plain": [
       "<matplotlib.axes._subplots.AxesSubplot at 0x2a937d01358>"
      ]
     },
     "execution_count": 13,
     "metadata": {},
     "output_type": "execute_result"
    },
    {
     "data": {
      "image/png": "[encoded data removed]",
      "text/plain": [
       "<Figure size 432x288 with 1 Axes>"
      ]
     },
     "metadata": {},
     "output_type": "display_data"
    }
   ],
   "source": [
    "train_data.plot(kind=\"scatter\", x=\"Survived\", y=\"Fare\")"
   ]
  },
  {
   "cell_type": "code",
   "execution_count": 14,
   "metadata": {},
   "outputs": [
    {
     "data": {
      "text/plain": [
       "3    491\n",
       "1    216\n",
       "2    184\n",
       "Name: Pclass, dtype: int64"
      ]
     },
     "execution_count": 14,
     "metadata": {},
     "output_type": "execute_result"
    }
   ],
   "source": [
    "class_counts = train_data[\"Pclass\"].value_counts()\n",
    "class_counts"
   ]
  },
  {
   "cell_type": "code",
   "execution_count": 15,
   "metadata": {},
   "outputs": [
    {
     "data": {
      "text/plain": [
       "<matplotlib.axes._subplots.AxesSubplot at 0x2a937b0c1d0>"
      ]
     },
     "execution_count": 15,
     "metadata": {},
     "output_type": "execute_result"
    },
    {
     "data": {
      "image/png": "[encoded data removed]",
      "text/plain": [
       "<Figure size 288x288 with 1 Axes>"
      ]
     },
     "metadata": {},
     "output_type": "display_data"
    }
   ],
   "source": [
    "class_counts.plot(kind=\"pie\", title=\"Passenger classes\", figsize=(4, 4))"
   ]
  },
  {
   "cell_type": "markdown",
   "metadata": {},
   "source": [
    "Investigate correlations"
   ]
  },
  {
   "cell_type": "code",
   "execution_count": 16,
   "metadata": {},
   "outputs": [],
   "source": [
    "corr_matrix = train_data.corr()"
   ]
  },
  {
   "cell_type": "code",
   "execution_count": 17,
   "metadata": {},
   "outputs": [
    {
     "data": {
      "text/plain": [
       "Survived    1.000000\n",
       "Pclass     -0.338481\n",
       "Age        -0.077221\n",
       "SibSp      -0.035322\n",
       "Parch       0.081629\n",
       "Fare        0.257307\n",
       "Name: Survived, dtype: float64"
      ]
     },
     "execution_count": 17,
     "metadata": {},
     "output_type": "execute_result"
    }
   ],
   "source": [
    "corr_matrix[\"Survived\"]"
   ]
  },
  {
   "cell_type": "code",
   "execution_count": 18,
   "metadata": {},
   "outputs": [],
   "source": [
    "corr_survived = corr_matrix[\"Survived\"].drop(\"Survived\")"
   ]
  },
  {
   "cell_type": "code",
   "execution_count": 19,
   "metadata": {},
   "outputs": [
    {
     "data": {
      "text/plain": [
       "<matplotlib.axes._subplots.AxesSubplot at 0x2a937b4c978>"
      ]
     },
     "execution_count": 19,
     "metadata": {},
     "output_type": "execute_result"
    },
    {
     "data": {
      "image/png": "[encoded data removed]",
      "text/plain": [
       "<Figure size 432x288 with 1 Axes>"
      ]
     },
     "metadata": {},
     "output_type": "display_data"
    }
   ],
   "source": [
    "corr_survived.sort_values(ascending=False).plot(kind='bar', title='Feature correlation with Survived')"
   ]
  },
  {
   "cell_type": "code",
   "execution_count": 20,
   "metadata": {},
   "outputs": [
    {
     "data": {
      "text/plain": [
       "<matplotlib.axes._subplots.AxesSubplot at 0x2a937ba81d0>"
      ]
     },
     "execution_count": 20,
     "metadata": {},
     "output_type": "execute_result"
    },
    {
     "data": {
      "image/png": "[encoded data removed]",
      "text/plain": [
       "<Figure size 432x288 with 1 Axes>"
      ]
     },
     "metadata": {},
     "output_type": "display_data"
    }
   ],
   "source": [
    "corr_survived.abs().sort_values(ascending=False).plot(kind='bar', title='Feature correlation with Survived (abs)')"
   ]
  },
  {
   "cell_type": "markdown",
   "metadata": {},
   "source": [
    "View the correlation between passenger class and survival"
   ]
  },
  {
   "cell_type": "code",
   "execution_count": 21,
   "metadata": {},
   "outputs": [
    {
     "data": {
      "text/html": [
       "<div>\n",
       "<style scoped>\n",
       "    .dataframe tbody tr th:only-of-type {\n",
       "        vertical-align: middle;\n",
       "    }\n",
       "\n",
       "    .dataframe tbody tr th {\n",
       "        vertical-align: top;\n",
       "    }\n",
       "\n",
       "    .dataframe thead th {\n",
       "        text-align: right;\n",
       "    }\n",
       "</style>\n",
       "<table border=\"1\" class=\"dataframe\">\n",
       "  <thead>\n",
       "    <tr style=\"text-align: right;\">\n",
       "      <th></th>\n",
       "      <th>Pclass</th>\n",
       "      <th>Survived</th>\n",
       "    </tr>\n",
       "  </thead>\n",
       "  <tbody>\n",
       "    <tr>\n",
       "      <th>0</th>\n",
       "      <td>1</td>\n",
       "      <td>0.629630</td>\n",
       "    </tr>\n",
       "    <tr>\n",
       "      <th>1</th>\n",
       "      <td>2</td>\n",
       "      <td>0.472826</td>\n",
       "    </tr>\n",
       "    <tr>\n",
       "      <th>2</th>\n",
       "      <td>3</td>\n",
       "      <td>0.242363</td>\n",
       "    </tr>\n",
       "  </tbody>\n",
       "</table>\n",
       "</div>"
      ],
      "text/plain": [
       "   Pclass  Survived\n",
       "0       1  0.629630\n",
       "1       2  0.472826\n",
       "2       3  0.242363"
      ]
     },
     "execution_count": 21,
     "metadata": {},
     "output_type": "execute_result"
    }
   ],
   "source": [
    "train_data[['Pclass', 'Survived']].groupby(['Pclass'], as_index=False).mean().sort_values(by='Survived', ascending=False)"
   ]
  },
  {
   "cell_type": "markdown",
   "metadata": {},
   "source": [
    "## Feature engineering"
   ]
  },
  {
   "cell_type": "markdown",
   "metadata": {},
   "source": [
    "Extract a list of `Title`s, used to map down to smaller set of category values"
   ]
  },
  {
   "cell_type": "code",
   "execution_count": 6,
   "metadata": {},
   "outputs": [
    {
     "data": {
      "text/plain": [
       "Mr          757\n",
       "Miss        260\n",
       "Mrs         197\n",
       "Master       61\n",
       "Dr            8\n",
       "Rev           8\n",
       "Col           4\n",
       "Major         2\n",
       "Ms            2\n",
       "Mlle          2\n",
       "Don           1\n",
       "Dona          1\n",
       "Countess      1\n",
       "Jonkheer      1\n",
       "Sir           1\n",
       "Lady          1\n",
       "Capt          1\n",
       "Mme           1\n",
       "Name: Name, dtype: int64"
      ]
     },
     "execution_count": 6,
     "metadata": {},
     "output_type": "execute_result"
    }
   ],
   "source": [
    "pd.concat(\n",
    "    [test_data[\"Name\"].str.extract(' ([A-Za-z]+)\\.', expand=False),\n",
    "    train_data[\"Name\"].str.extract(' ([A-Za-z]+)\\.', expand=False)]\n",
    ").value_counts()\n"
   ]
  },
  {
   "cell_type": "markdown",
   "metadata": {},
   "source": [
    "#### Process _Embarked_"
   ]
  },
  {
   "cell_type": "markdown",
   "metadata": {},
   "source": [
    "Find the most common embarcation point"
   ]
  },
  {
   "cell_type": "code",
   "execution_count": 7,
   "metadata": {},
   "outputs": [
    {
     "data": {
      "text/plain": [
       "S    644\n",
       "Name: Embarked, dtype: int64"
      ]
     },
     "execution_count": 7,
     "metadata": {},
     "output_type": "execute_result"
    }
   ],
   "source": [
    "train_data[\"Embarked\"].value_counts().head(1)"
   ]
  },
  {
   "cell_type": "markdown",
   "metadata": {},
   "source": [
    "## Using a pipeline"
   ]
  },
  {
   "cell_type": "markdown",
   "metadata": {},
   "source": [
    "Build a pipeline to apply the following transformations\n",
    "\n",
    "1. Extract Title from _Name_\n",
    "2. Calculate FamilySize from _SibSp_ and _Parch_\n",
    "3. Replace _Embarked_ codes with city names\n",
    "4. One-hot encode _Embarked_, _Sex_ and _Title_\n",
    "5. Drop _Name_, _Age_, _Cabin_ and _Ticket_ features\n",
    "6. Fill _Fare_ with mean (there's a NaN Fare in the test set)"
   ]
  },
  {
   "cell_type": "code",
   "execution_count": 8,
   "metadata": {},
   "outputs": [],
   "source": [
    "from sklearn.base import BaseEstimator, TransformerMixin\n",
    "from sklearn.pipeline import Pipeline\n",
    "from sklearn.preprocessing import Imputer"
   ]
  },
  {
   "cell_type": "code",
   "execution_count": 9,
   "metadata": {},
   "outputs": [],
   "source": [
    "class ColumnSelector(BaseEstimator, TransformerMixin):\n",
    "    \"\"\"Transformer that selects a set of columns\n",
    "    \"\"\"\n",
    "    \n",
    "    def __init__(self, columns):\n",
    "        self.columns = columns\n",
    "        \n",
    "    def fit(self, X, y=None):\n",
    "        return self\n",
    "    \n",
    "    def transform(self, X):\n",
    "        assert isinstance(X, pd.DataFrame)\n",
    "        return X[self.columns]"
   ]
  },
  {
   "cell_type": "code",
   "execution_count": 10,
   "metadata": {},
   "outputs": [],
   "source": [
    "class DropColumnsTransformer(BaseEstimator, TransformerMixin):\n",
    "    \"\"\"Transformer that drops the given columns\n",
    "    \"\"\"\n",
    "    \n",
    "    def __init__(self, columns):\n",
    "        self.columns = columns\n",
    "    def fit(self, X, y=None):\n",
    "        return self\n",
    "    def transform(self, X):\n",
    "        assert isinstance(X, pd.DataFrame)\n",
    "        return X.drop(self.columns, axis=1)"
   ]
  },
  {
   "cell_type": "code",
   "execution_count": 11,
   "metadata": {},
   "outputs": [],
   "source": [
    "class ExtractFamilySizeTransformer(BaseEstimator, TransformerMixin):\n",
    "    \"\"\"Transformer that extracts a FamilySize column from SibSp and Parch\n",
    "    \"\"\"\n",
    "    \n",
    "    def __init__(self):\n",
    "        pass\n",
    "    def fit(self, X, y=None):\n",
    "        return self\n",
    "    def transform(self, X):\n",
    "        assert isinstance(X, pd.DataFrame)\n",
    "        return X.assign(FamilySize = lambda _: _.SibSp + _.Parch + 1)"
   ]
  },
  {
   "cell_type": "code",
   "execution_count": 12,
   "metadata": {},
   "outputs": [],
   "source": [
    "class ExtractTitleTransformer(BaseEstimator, TransformerMixin):\n",
    "    \"\"\"Transformer that extracts a Title column from Name\n",
    "    \"\"\"\n",
    "    \n",
    "    def __init__(self):\n",
    "        pass\n",
    "    def fit(self, X, y=None):\n",
    "        return self\n",
    "    def transform(self, X):\n",
    "        assert isinstance(X, pd.DataFrame)\n",
    "        return X.assign(Title = lambda _: _.Name.str.extract(' ([A-Za-z]+)\\.', expand=False))"
   ]
  },
  {
   "cell_type": "code",
   "execution_count": 13,
   "metadata": {},
   "outputs": [],
   "source": [
    "class FillnaTransformer(BaseEstimator, TransformerMixin):\n",
    "    \"\"\"Transformer that fills in NA values\n",
    "    \"\"\"\n",
    "    \n",
    "    def __init__(self, value):\n",
    "        self.value=value\n",
    "    def fit(self, X, y=None):\n",
    "        return self\n",
    "    def transform(self, X):\n",
    "        return X.fillna(self.value)"
   ]
  },
  {
   "cell_type": "code",
   "execution_count": 14,
   "metadata": {},
   "outputs": [],
   "source": [
    "class GetDummiesTransformer(BaseEstimator, TransformerMixin):\n",
    "    \"\"\"Transformer that one-hot encodes the given columns\n",
    "    \"\"\"\n",
    "    \n",
    "    def __init__(self, columns=None, drop_first=False):\n",
    "        self.columns = columns\n",
    "        self.drop_first=drop_first\n",
    "    def fit(self, X, y=None):\n",
    "        return self\n",
    "    def transform(self, X):\n",
    "        assert isinstance(X, pd.DataFrame)\n",
    "        return pd.get_dummies(X, columns=self.columns, drop_first=self.drop_first)"
   ]
  },
  {
   "cell_type": "code",
   "execution_count": 15,
   "metadata": {},
   "outputs": [],
   "source": [
    "class ImputerTransformer(BaseEstimator, TransformerMixin):\n",
    "    \"\"\"Transformer that imputes missing values\n",
    "    \"\"\"    \n",
    "    \n",
    "    def __init__(self, strategy=\"mean\"):\n",
    "        self.strategy=strategy\n",
    "    def fit(self, X, y=None):\n",
    "        self.imputer = Imputer(strategy=self.strategy).fit(X)\n",
    "        return self\n",
    "    def transform(self, X):\n",
    "        assert isinstance(X, pd.DataFrame)\n",
    "        return pd.DataFrame(self.imputer.transform(X), index=X.index, columns=X.columns)"
   ]
  },
  {
   "cell_type": "code",
   "execution_count": 16,
   "metadata": {},
   "outputs": [],
   "source": [
    "class ReplaceValueTransformer(BaseEstimator, TransformerMixin):\n",
    "    \"\"\"Transformer that replaces values\n",
    "    \"\"\"\n",
    "    \n",
    "    def __init__(self, to_replace, value):\n",
    "        self.to_replace = to_replace\n",
    "        self.value = value\n",
    "        \n",
    "    def fit(self, X, y=None):\n",
    "        return self\n",
    "    \n",
    "    def transform(self, X):\n",
    "        assert isinstance(X, pd.DataFrame)\n",
    "        X[self.to_replace].replace(self.value, inplace=True)\n",
    "        return X"
   ]
  },
  {
   "cell_type": "code",
   "execution_count": 17,
   "metadata": {},
   "outputs": [],
   "source": [
    "class ScalerTransformer(BaseEstimator, TransformerMixin):\n",
    "    \"\"\"Transformer that performs standard scaling\n",
    "    \n",
    "    Same behaviour as `StandardScaler` but outputs a DataFrame\n",
    "    \"\"\"    \n",
    "    \n",
    "    def __init__(self):\n",
    "        pass\n",
    "    \n",
    "    def fit(self, X, y=None):\n",
    "        self.scaler = StandardScaler().fit(X)\n",
    "        return self\n",
    "    \n",
    "    def transform(self, X):\n",
    "        assert isinstance(X, pd.DataFrame)\n",
    "        return pd.DataFrame(self.scaler.transform(X), index=X.index, columns=X.columns)"
   ]
  },
  {
   "cell_type": "code",
   "execution_count": 18,
   "metadata": {},
   "outputs": [],
   "source": [
    "def indices_of_top_k(arr, k):\n",
    "    return np.sort(np.argpartition(np.array(arr), -k)[-k:])\n",
    "\n",
    "class TopFeatureSelector(BaseEstimator, TransformerMixin):\n",
    "    \"\"\"Transformer to select the most important attributes\n",
    "    \n",
    "    For performance reasons feature importances should be calculated outside the estimator\n",
    "    \"\"\"\n",
    "        \n",
    "    def __init__(self, feature_importances, k):\n",
    "        self.feature_importances = feature_importances\n",
    "        self.k = k\n",
    "        \n",
    "    def fit(self, X, y=None):\n",
    "        self.feature_indices_ = indices_of_top_k(self.feature_importances, self.k)\n",
    "        return self\n",
    "    \n",
    "    def transform(self, X):\n",
    "        assert isinstance(X, pd.DataFrame)\n",
    "        return X[:, self.feature_indices_]"
   ]
  },
  {
   "cell_type": "code",
   "execution_count": 19,
   "metadata": {},
   "outputs": [],
   "source": [
    "titles = {\n",
    "    \"Mr\": \"Mr\",\n",
    "    \"Miss\" : \"Miss\",\n",
    "    \"Mrs\" : \"Mrs\",\n",
    "    \"Master\" : \"Master\",\n",
    "    \"Dr\": \"Mr\",\n",
    "    \"Rev\": \"Mr\",\n",
    "    \"Mlle\": \"Miss\",\n",
    "    \"Major\": \"Mr\",\n",
    "    \"Col\": \"Mr\",\n",
    "    \"Ms\": \"Mrs\",\n",
    "    \"Sir\" : \"Mr\",    \n",
    "    \"Jonkheer\": \"Mr\",\n",
    "    \"Mme\": \"Mrs\",\n",
    "    \"Don\": \"Mr\",\n",
    "    \"Dona\": \"Mrs\",\n",
    "    \"Countess\":\"Mrs\",\n",
    "    \"Lady\" : \"Mrs\",\n",
    "    \"Capt\": \"Mr\"    \n",
    "}\n",
    "\n",
    "cities = {\n",
    "    \"C\": \"Cherbourg\", \n",
    "    \"Q\": \"Queenstown\", \n",
    "    \"S\": \"Southampton\"\n",
    "}\n",
    "\n",
    "sex = {\n",
    "    \"male\": 0,\n",
    "    \"female\": 1\n",
    "}"
   ]
  },
  {
   "cell_type": "code",
   "execution_count": 20,
   "metadata": {},
   "outputs": [],
   "source": [
    "transformation_pipeline = Pipeline([\n",
    "    (\"extract_title\", ExtractTitleTransformer()),\n",
    "    (\"replace_title\", ReplaceValueTransformer(\"Title\", titles)),\n",
    "    (\"extract_family_size\", ExtractFamilySizeTransformer()),\n",
    "    (\"fill_embarked\", FillnaTransformer({\"Embarked\": \"S\"})), # fill with most frequent city\n",
    "    (\"replace_embarked\", ReplaceValueTransformer(\"Embarked\", cities)),\n",
    "    (\"get_dummies\", GetDummiesTransformer([\"Embarked\", \"Sex\", \"Title\"])),\n",
    "    (\"drop_columns\", DropColumnsTransformer([\"Name\", \"Cabin\", \"Ticket\"])),\n",
    "    (\"impute_values\", ImputerTransformer()),\n",
    "    (\"std_scaler\", ScalerTransformer())\n",
    "])"
   ]
  },
  {
   "cell_type": "code",
   "execution_count": 21,
   "metadata": {},
   "outputs": [],
   "source": [
    "X_train_transformed = transformation_pipeline.fit_transform(X_train.copy())"
   ]
  },
  {
   "cell_type": "code",
   "execution_count": 22,
   "metadata": {},
   "outputs": [
    {
     "data": {
      "text/html": [
       "<div>\n",
       "<style scoped>\n",
       "    .dataframe tbody tr th:only-of-type {\n",
       "        vertical-align: middle;\n",
       "    }\n",
       "\n",
       "    .dataframe tbody tr th {\n",
       "        vertical-align: top;\n",
       "    }\n",
       "\n",
       "    .dataframe thead th {\n",
       "        text-align: right;\n",
       "    }\n",
       "</style>\n",
       "<table border=\"1\" class=\"dataframe\">\n",
       "  <thead>\n",
       "    <tr style=\"text-align: right;\">\n",
       "      <th></th>\n",
       "      <th>Pclass</th>\n",
       "      <th>Age</th>\n",
       "      <th>SibSp</th>\n",
       "      <th>Parch</th>\n",
       "      <th>Fare</th>\n",
       "      <th>FamilySize</th>\n",
       "      <th>Embarked_Cherbourg</th>\n",
       "      <th>Embarked_Queenstown</th>\n",
       "      <th>Embarked_Southampton</th>\n",
       "      <th>Sex_female</th>\n",
       "      <th>Sex_male</th>\n",
       "      <th>Title_Master</th>\n",
       "      <th>Title_Miss</th>\n",
       "      <th>Title_Mr</th>\n",
       "      <th>Title_Mrs</th>\n",
       "    </tr>\n",
       "    <tr>\n",
       "      <th>PassengerId</th>\n",
       "      <th></th>\n",
       "      <th></th>\n",
       "      <th></th>\n",
       "      <th></th>\n",
       "      <th></th>\n",
       "      <th></th>\n",
       "      <th></th>\n",
       "      <th></th>\n",
       "      <th></th>\n",
       "      <th></th>\n",
       "      <th></th>\n",
       "      <th></th>\n",
       "      <th></th>\n",
       "      <th></th>\n",
       "      <th></th>\n",
       "    </tr>\n",
       "  </thead>\n",
       "  <tbody>\n",
       "    <tr>\n",
       "      <th>1</th>\n",
       "      <td>0.827377</td>\n",
       "      <td>-0.592481</td>\n",
       "      <td>0.432793</td>\n",
       "      <td>-0.473674</td>\n",
       "      <td>-0.502445</td>\n",
       "      <td>0.059160</td>\n",
       "      <td>-0.482043</td>\n",
       "      <td>-0.307562</td>\n",
       "      <td>0.615838</td>\n",
       "      <td>-0.737695</td>\n",
       "      <td>0.737695</td>\n",
       "      <td>-0.216803</td>\n",
       "      <td>-0.510152</td>\n",
       "      <td>0.810021</td>\n",
       "      <td>-0.411450</td>\n",
       "    </tr>\n",
       "    <tr>\n",
       "      <th>2</th>\n",
       "      <td>-1.566107</td>\n",
       "      <td>0.638789</td>\n",
       "      <td>0.432793</td>\n",
       "      <td>-0.473674</td>\n",
       "      <td>0.786845</td>\n",
       "      <td>0.059160</td>\n",
       "      <td>2.074505</td>\n",
       "      <td>-0.307562</td>\n",
       "      <td>-1.623803</td>\n",
       "      <td>1.355574</td>\n",
       "      <td>-1.355574</td>\n",
       "      <td>-0.216803</td>\n",
       "      <td>-0.510152</td>\n",
       "      <td>-1.234536</td>\n",
       "      <td>2.430427</td>\n",
       "    </tr>\n",
       "    <tr>\n",
       "      <th>3</th>\n",
       "      <td>0.827377</td>\n",
       "      <td>-0.284663</td>\n",
       "      <td>-0.474545</td>\n",
       "      <td>-0.473674</td>\n",
       "      <td>-0.488854</td>\n",
       "      <td>-0.560975</td>\n",
       "      <td>-0.482043</td>\n",
       "      <td>-0.307562</td>\n",
       "      <td>0.615838</td>\n",
       "      <td>1.355574</td>\n",
       "      <td>-1.355574</td>\n",
       "      <td>-0.216803</td>\n",
       "      <td>1.960202</td>\n",
       "      <td>-1.234536</td>\n",
       "      <td>-0.411450</td>\n",
       "    </tr>\n",
       "    <tr>\n",
       "      <th>4</th>\n",
       "      <td>-1.566107</td>\n",
       "      <td>0.407926</td>\n",
       "      <td>0.432793</td>\n",
       "      <td>-0.473674</td>\n",
       "      <td>0.420730</td>\n",
       "      <td>0.059160</td>\n",
       "      <td>-0.482043</td>\n",
       "      <td>-0.307562</td>\n",
       "      <td>0.615838</td>\n",
       "      <td>1.355574</td>\n",
       "      <td>-1.355574</td>\n",
       "      <td>-0.216803</td>\n",
       "      <td>-0.510152</td>\n",
       "      <td>-1.234536</td>\n",
       "      <td>2.430427</td>\n",
       "    </tr>\n",
       "    <tr>\n",
       "      <th>5</th>\n",
       "      <td>0.827377</td>\n",
       "      <td>0.407926</td>\n",
       "      <td>-0.474545</td>\n",
       "      <td>-0.473674</td>\n",
       "      <td>-0.486337</td>\n",
       "      <td>-0.560975</td>\n",
       "      <td>-0.482043</td>\n",
       "      <td>-0.307562</td>\n",
       "      <td>0.615838</td>\n",
       "      <td>-0.737695</td>\n",
       "      <td>0.737695</td>\n",
       "      <td>-0.216803</td>\n",
       "      <td>-0.510152</td>\n",
       "      <td>0.810021</td>\n",
       "      <td>-0.411450</td>\n",
       "    </tr>\n",
       "  </tbody>\n",
       "</table>\n",
       "</div>"
      ],
      "text/plain": [
       "               Pclass       Age     SibSp     Parch      Fare  FamilySize  \\\n",
       "PassengerId                                                                 \n",
       "1            0.827377 -0.592481  0.432793 -0.473674 -0.502445    0.059160   \n",
       "2           -1.566107  0.638789  0.432793 -0.473674  0.786845    0.059160   \n",
       "3            0.827377 -0.284663 -0.474545 -0.473674 -0.488854   -0.560975   \n",
       "4           -1.566107  0.407926  0.432793 -0.473674  0.420730    0.059160   \n",
       "5            0.827377  0.407926 -0.474545 -0.473674 -0.486337   -0.560975   \n",
       "\n",
       "             Embarked_Cherbourg  Embarked_Queenstown  Embarked_Southampton  \\\n",
       "PassengerId                                                                  \n",
       "1                     -0.482043            -0.307562              0.615838   \n",
       "2                      2.074505            -0.307562             -1.623803   \n",
       "3                     -0.482043            -0.307562              0.615838   \n",
       "4                     -0.482043            -0.307562              0.615838   \n",
       "5                     -0.482043            -0.307562              0.615838   \n",
       "\n",
       "             Sex_female  Sex_male  Title_Master  Title_Miss  Title_Mr  \\\n",
       "PassengerId                                                             \n",
       "1             -0.737695  0.737695     -0.216803   -0.510152  0.810021   \n",
       "2              1.355574 -1.355574     -0.216803   -0.510152 -1.234536   \n",
       "3              1.355574 -1.355574     -0.216803    1.960202 -1.234536   \n",
       "4              1.355574 -1.355574     -0.216803   -0.510152 -1.234536   \n",
       "5             -0.737695  0.737695     -0.216803   -0.510152  0.810021   \n",
       "\n",
       "             Title_Mrs  \n",
       "PassengerId             \n",
       "1            -0.411450  \n",
       "2             2.430427  \n",
       "3            -0.411450  \n",
       "4             2.430427  \n",
       "5            -0.411450  "
      ]
     },
     "execution_count": 22,
     "metadata": {},
     "output_type": "execute_result"
    }
   ],
   "source": [
    "X_train_transformed.head()"
   ]
  },
  {
   "cell_type": "markdown",
   "metadata": {},
   "source": [
    "## Train a model"
   ]
  },
  {
   "cell_type": "code",
   "execution_count": 23,
   "metadata": {},
   "outputs": [],
   "source": [
    "def display_scores(scores):\n",
    "    print(\"Scores:\", scores)\n",
    "    print(\"Mean:\", scores.mean())\n",
    "    print(\"Standard deviation:\", scores.std())"
   ]
  },
  {
   "cell_type": "code",
   "execution_count": 24,
   "metadata": {},
   "outputs": [],
   "source": [
    "def view_best_of_grid(grid: GridSearchCV):\n",
    "    print(\"best score:\", grid.best_score_)\n",
    "    print(\"best params:\", grid.best_params_)\n",
    "    print(\"best estimator:\", grid.best_estimator_)"
   ]
  },
  {
   "cell_type": "code",
   "execution_count": 25,
   "metadata": {},
   "outputs": [],
   "source": [
    "def show_null_samples(frame):\n",
    "    print(frame[frame.isnull().any(axis=1)])"
   ]
  },
  {
   "cell_type": "markdown",
   "metadata": {},
   "source": [
    "### Train LinearSVC"
   ]
  },
  {
   "cell_type": "code",
   "execution_count": 45,
   "metadata": {},
   "outputs": [],
   "source": [
    "from sklearn.svm import LinearSVC"
   ]
  },
  {
   "cell_type": "code",
   "execution_count": 46,
   "metadata": {},
   "outputs": [
    {
     "data": {
      "text/plain": [
       "Pipeline(memory=None,\n",
       "     steps=[('prepare_data', Pipeline(memory=None,\n",
       "     steps=[('extract_title', ExtractTitleTransformer()), ('replace_title', ReplaceValueTransformer(to_replace='Title',\n",
       "            value={'Mr': 'Mr', 'Miss': 'Miss', 'Mrs': 'Mrs', 'Master': 'Master', 'Dr': 'Mr', 'Rev': 'Mr', 'Mlle': 'Miss', 'Major': 'Mr...ax_iter=1000,\n",
       "     multi_class='ovr', penalty='l2', random_state=None, tol=0.0001,\n",
       "     verbose=0))])"
      ]
     },
     "execution_count": 46,
     "metadata": {},
     "output_type": "execute_result"
    }
   ],
   "source": [
    "clf_svc = LinearSVC(penalty=\"l2\", dual=False, tol=1e-4)\n",
    "\n",
    "pipeline_svc = Pipeline([\n",
    "    ('prepare_data', transformation_pipeline),\n",
    "    ('clf_linear', clf_svc)\n",
    "])\n",
    "\n",
    "pipeline_svc.fit(X_train, y_train)"
   ]
  },
  {
   "cell_type": "code",
   "execution_count": 47,
   "metadata": {},
   "outputs": [],
   "source": [
    "y_hat_svc = pipeline_svc.predict(X_test)"
   ]
  },
  {
   "cell_type": "markdown",
   "metadata": {},
   "source": [
    "### Train DecisionTreeClassifier"
   ]
  },
  {
   "cell_type": "code",
   "execution_count": 48,
   "metadata": {},
   "outputs": [
    {
     "data": {
      "text/plain": [
       "Pipeline(memory=None,\n",
       "     steps=[('prepare_data', Pipeline(memory=None,\n",
       "     steps=[('extract_title', ExtractTitleTransformer()), ('replace_title', ReplaceValueTransformer(to_replace='Title',\n",
       "            value={'Mr': 'Mr', 'Miss': 'Miss', 'Mrs': 'Mrs', 'Master': 'Master', 'Dr': 'Mr', 'Rev': 'Mr', 'Mlle': 'Miss', 'Major': 'Mr...        min_weight_fraction_leaf=0.0, presort=False, random_state=42,\n",
       "            splitter='best'))])"
      ]
     },
     "execution_count": 48,
     "metadata": {},
     "output_type": "execute_result"
    }
   ],
   "source": [
    "from sklearn.model_selection import cross_val_score\n",
    "from sklearn.tree import DecisionTreeClassifier\n",
    "\n",
    "clf_tree = DecisionTreeClassifier(random_state=42)\n",
    "\n",
    "pipeline_tree = Pipeline([\n",
    "    ('prepare_data', transformation_pipeline),\n",
    "    ('clf_linear', clf_tree)\n",
    "])\n",
    "\n",
    "pipeline_tree.fit(X_train, y_train)                           "
   ]
  },
  {
   "cell_type": "code",
   "execution_count": 49,
   "metadata": {},
   "outputs": [],
   "source": [
    "y_hat_tree = pipeline_tree.predict(X_test)"
   ]
  },
  {
   "cell_type": "code",
   "execution_count": 52,
   "metadata": {},
   "outputs": [
    {
     "data": {
      "text/plain": [
       "0.9820426487093153"
      ]
     },
     "execution_count": 52,
     "metadata": {},
     "output_type": "execute_result"
    }
   ],
   "source": [
    "pipeline_tree.score(X_train, y_train)"
   ]
  },
  {
   "cell_type": "markdown",
   "metadata": {},
   "source": [
    "### Train a random forrest"
   ]
  },
  {
   "cell_type": "code",
   "execution_count": 62,
   "metadata": {},
   "outputs": [],
   "source": [
    "from sklearn.ensemble import RandomForestClassifier\n",
    "\n",
    "clf_forrest = RandomForestClassifier(random_state=0, n_jobs=4)"
   ]
  },
  {
   "cell_type": "code",
   "execution_count": 63,
   "metadata": {},
   "outputs": [
    {
     "data": {
      "text/plain": [
       "GridSearchCV(cv=None, error_score='raise',\n",
       "       estimator=Pipeline(memory=None,\n",
       "     steps=[('prepare_data', Pipeline(memory=None,\n",
       "     steps=[('extract_title', ExtractTitleTransformer()), ('replace_title', ReplaceValueTransformer(to_replace='Title',\n",
       "            value={'Mr': 'Mr', 'Miss': 'Miss', 'Mrs': 'Mrs', 'Master': 'Master', 'Dr': 'Mr', 'Rev': 'Mr', 'Mlle': 'Miss', 'Major': 'Mr...estimators=10, n_jobs=4,\n",
       "            oob_score=False, random_state=0, verbose=0, warm_start=False))]),\n",
       "       fit_params=None, iid=True, n_jobs=1,\n",
       "       param_grid=[{'clf_forrest__bootstrap': [True, False], 'clf_forrest__criterion': ['gini', 'entropy'], 'clf_forrest__n_estimators': [30, 100, 300], 'clf_forrest__max_depth': [2, 4, 8], 'clf_forrest__max_features': [0.8, 1.0], 'clf_forrest__max_leaf_nodes': [4, 8, 16]}],\n",
       "       pre_dispatch='2*n_jobs', refit=True, return_train_score='warn',\n",
       "       scoring=None, verbose=0)"
      ]
     },
     "execution_count": 63,
     "metadata": {},
     "output_type": "execute_result"
    }
   ],
   "source": [
    "pipeline_forrest = Pipeline([\n",
    "    ('prepare_data', transformation_pipeline),\n",
    "    ('clf_forrest', clf_forrest)\n",
    "])\n",
    "\n",
    "forrest_param_grid = [{ \n",
    "    \"clf_forrest__bootstrap\": [True, False],\n",
    "    \"clf_forrest__criterion\": [\"gini\", \"entropy\"],\n",
    "    \"clf_forrest__n_estimators\": [30, 100, 300],\n",
    "    \"clf_forrest__max_depth\": [2, 4, 8],\n",
    "    \"clf_forrest__max_features\": [0.8, 1.0],\n",
    "    \"clf_forrest__max_leaf_nodes\": [4, 8, 16]\n",
    "}]\n",
    "\n",
    "search_forrest = GridSearchCV(pipeline_forrest, forrest_param_grid)\n",
    "\n",
    "search_forrest.fit(X_train, y_train)"
   ]
  },
  {
   "cell_type": "code",
   "execution_count": 64,
   "metadata": {},
   "outputs": [
    {
     "name": "stdout",
     "output_type": "stream",
     "text": [
      "best score: 0.8462401795735129\n",
      "best params: {'clf_forrest__bootstrap': False, 'clf_forrest__criterion': 'gini', 'clf_forrest__max_depth': 8, 'clf_forrest__max_features': 0.8, 'clf_forrest__max_leaf_nodes': 16, 'clf_forrest__n_estimators': 100}\n",
      "best estimator: Pipeline(memory=None,\n",
      "     steps=[('prepare_data', Pipeline(memory=None,\n",
      "     steps=[('extract_title', ExtractTitleTransformer()), ('replace_title', ReplaceValueTransformer(to_replace='Title',\n",
      "            value={'Mr': 'Mr', 'Miss': 'Miss', 'Mrs': 'Mrs', 'Master': 'Master', 'Dr': 'Mr', 'Rev': 'Mr', 'Mlle': 'Miss', 'Major': 'Mr...stimators=100, n_jobs=4,\n",
      "            oob_score=False, random_state=0, verbose=0, warm_start=False))])\n"
     ]
    }
   ],
   "source": [
    "view_best_of_grid(search_forrest)"
   ]
  },
  {
   "cell_type": "code",
   "execution_count": 66,
   "metadata": {},
   "outputs": [],
   "source": [
    "y_hat_forrest = search_forrest.predict(X_test)"
   ]
  },
  {
   "cell_type": "markdown",
   "metadata": {},
   "source": [
    "### Train a gradient boosted classifier"
   ]
  },
  {
   "cell_type": "code",
   "execution_count": 29,
   "metadata": {},
   "outputs": [],
   "source": [
    "from sklearn.ensemble import GradientBoostingClassifier"
   ]
  },
  {
   "cell_type": "code",
   "execution_count": 30,
   "metadata": {},
   "outputs": [],
   "source": [
    "gb_params = [{ \n",
    "    \"prepare_data__get_dummies__drop_first\": [True, False],\n",
    "    \"gb_clf__learning_rate\": [0.4, 0.5, 0.6, 0.8, 1.0],\n",
    "    \"gb_clf__n_estimators\": [10, 30, 100, 150],\n",
    "    \"gb_clf__max_depth\": [2, 3, 4],\n",
    "    \"gb_clf__max_features\": [0.5, 0.6, 0.8, 1.0]\n",
    "}]"
   ]
  },
  {
   "cell_type": "code",
   "execution_count": 31,
   "metadata": {},
   "outputs": [],
   "source": [
    "gb_clf_pipeline = Pipeline([\n",
    "    ('prepare_data', transformation_pipeline),\n",
    "    ('gb_clf', GradientBoostingClassifier(random_state=42))\n",
    "])"
   ]
  },
  {
   "cell_type": "code",
   "execution_count": 32,
   "metadata": {},
   "outputs": [],
   "source": [
    "gb_clf = GridSearchCV(gb_clf_pipeline, gb_params, cv=3, verbose=1)"
   ]
  },
  {
   "cell_type": "markdown",
   "metadata": {},
   "source": [
    "These are all the hyperparameters that can potentially be set"
   ]
  },
  {
   "cell_type": "code",
   "execution_count": 33,
   "metadata": {},
   "outputs": [
    {
     "data": {
      "text/plain": [
       "['memory',\n",
       " 'steps',\n",
       " 'prepare_data',\n",
       " 'gb_clf',\n",
       " 'prepare_data__memory',\n",
       " 'prepare_data__steps',\n",
       " 'prepare_data__extract_title',\n",
       " 'prepare_data__replace_title',\n",
       " 'prepare_data__extract_family_size',\n",
       " 'prepare_data__fill_embarked',\n",
       " 'prepare_data__replace_embarked',\n",
       " 'prepare_data__get_dummies',\n",
       " 'prepare_data__drop_columns',\n",
       " 'prepare_data__impute_values',\n",
       " 'prepare_data__replace_title__to_replace',\n",
       " 'prepare_data__replace_title__value',\n",
       " 'prepare_data__fill_embarked__value',\n",
       " 'prepare_data__replace_embarked__to_replace',\n",
       " 'prepare_data__replace_embarked__value',\n",
       " 'prepare_data__get_dummies__columns',\n",
       " 'prepare_data__get_dummies__drop_first',\n",
       " 'prepare_data__drop_columns__columns',\n",
       " 'prepare_data__impute_values__strategy',\n",
       " 'gb_clf__criterion',\n",
       " 'gb_clf__init',\n",
       " 'gb_clf__learning_rate',\n",
       " 'gb_clf__loss',\n",
       " 'gb_clf__max_depth',\n",
       " 'gb_clf__max_features',\n",
       " 'gb_clf__max_leaf_nodes',\n",
       " 'gb_clf__min_impurity_decrease',\n",
       " 'gb_clf__min_impurity_split',\n",
       " 'gb_clf__min_samples_leaf',\n",
       " 'gb_clf__min_samples_split',\n",
       " 'gb_clf__min_weight_fraction_leaf',\n",
       " 'gb_clf__n_estimators',\n",
       " 'gb_clf__presort',\n",
       " 'gb_clf__random_state',\n",
       " 'gb_clf__subsample',\n",
       " 'gb_clf__verbose',\n",
       " 'gb_clf__warm_start']"
      ]
     },
     "execution_count": 33,
     "metadata": {},
     "output_type": "execute_result"
    }
   ],
   "source": [
    "list(gb_clf_pipeline.get_params().keys())"
   ]
  },
  {
   "cell_type": "code",
   "execution_count": 34,
   "metadata": {},
   "outputs": [
    {
     "name": "stdout",
     "output_type": "stream",
     "text": [
      "Fitting 3 folds for each of 480 candidates, totalling 1440 fits\n"
     ]
    },
    {
     "name": "stderr",
     "output_type": "stream",
     "text": [
      "[Parallel(n_jobs=1)]: Done 1440 out of 1440 | elapsed:  2.3min finished\n"
     ]
    },
    {
     "data": {
      "text/plain": [
       "GridSearchCV(cv=3, error_score='raise',\n",
       "       estimator=Pipeline(memory=None,\n",
       "     steps=[('prepare_data', Pipeline(memory=None,\n",
       "     steps=[('extract_title', ExtractTitleTransformer()), ('replace_title', ReplaceValueTransformer(to_replace='Title',\n",
       "            value={'Mr': 'Mr', 'Miss': 'Miss', 'Mrs': 'Mrs', 'Master': 'Master', 'Dr': 'Mr', 'Rev': 'Mr', 'Mlle': 'Miss', 'Major': 'Mr...        presort='auto', random_state=42, subsample=1.0, verbose=0,\n",
       "              warm_start=False))]),\n",
       "       fit_params=None, iid=True, n_jobs=1,\n",
       "       param_grid=[{'prepare_data__get_dummies__drop_first': [True, False], 'gb_clf__learning_rate': [0.4, 0.5, 0.6, 0.8, 1.0], 'gb_clf__n_estimators': [10, 30, 100, 150], 'gb_clf__max_depth': [2, 3, 4], 'gb_clf__max_features': [0.5, 0.6, 0.8, 1.0]}],\n",
       "       pre_dispatch='2*n_jobs', refit=True, return_train_score='warn',\n",
       "       scoring=None, verbose=1)"
      ]
     },
     "execution_count": 34,
     "metadata": {},
     "output_type": "execute_result"
    }
   ],
   "source": [
    "gb_clf.fit(X_train.copy(), y_train)"
   ]
  },
  {
   "cell_type": "code",
   "execution_count": 35,
   "metadata": {},
   "outputs": [
    {
     "name": "stdout",
     "output_type": "stream",
     "text": [
      "best score: 0.8383838383838383\n",
      "best params: {'gb_clf__learning_rate': 0.8, 'gb_clf__max_depth': 2, 'gb_clf__max_features': 0.5, 'gb_clf__n_estimators': 30, 'prepare_data__get_dummies__drop_first': True}\n",
      "best estimator: Pipeline(memory=None,\n",
      "     steps=[('prepare_data', Pipeline(memory=None,\n",
      "     steps=[('extract_title', ExtractTitleTransformer()), ('replace_title', ReplaceValueTransformer(to_replace='Title',\n",
      "            value={'Mr': 'Mr', 'Miss': 'Miss', 'Mrs': 'Mrs', 'Master': 'Master', 'Dr': 'Mr', 'Rev': 'Mr', 'Mlle': 'Miss', 'Major': 'Mr...        presort='auto', random_state=42, subsample=1.0, verbose=0,\n",
      "              warm_start=False))])\n"
     ]
    }
   ],
   "source": [
    "view_best_of_grid(gb_clf)"
   ]
  },
  {
   "cell_type": "code",
   "execution_count": 36,
   "metadata": {},
   "outputs": [
    {
     "data": {
      "text/plain": [
       "'best gradient boosting classifier score: 0.8855218855218855'"
      ]
     },
     "execution_count": 36,
     "metadata": {},
     "output_type": "execute_result"
    }
   ],
   "source": [
    "gb_clf_score = gb_clf.score(X_train, y_train)\n",
    "\"best gradient boosting classifier score: {}\".format(gb_clf_score)"
   ]
  },
  {
   "cell_type": "code",
   "execution_count": 37,
   "metadata": {},
   "outputs": [],
   "source": [
    "y_hat_gb = gb_clf.predict(X_test.copy()) "
   ]
  },
  {
   "cell_type": "markdown",
   "metadata": {},
   "source": [
    "### Train an XGBoost classifier"
   ]
  },
  {
   "cell_type": "code",
   "execution_count": 140,
   "metadata": {},
   "outputs": [
    {
     "name": "stdout",
     "output_type": "stream",
     "text": [
      "Fitting 3 folds for each of 10 candidates, totalling 30 fits\n"
     ]
    },
    {
     "name": "stderr",
     "output_type": "stream",
     "text": [
      "[Parallel(n_jobs=1)]: Done  30 out of  30 | elapsed:    2.8s finished\n"
     ]
    }
   ],
   "source": [
    "# Ignore numpy deprecation warning, see https://github.com/scikit-learn/scikit-learn/issues/10449\n",
    "import warnings\n",
    "warnings.filterwarnings(action='ignore', category=DeprecationWarning)\n",
    "\n",
    "import xgboost as xgb\n",
    "\n",
    "clf_xgb = xgb.XGBClassifier(objective=\"binary:logistic\", random_state=42)\n",
    "\n",
    "pipeline_xgb = Pipeline([\n",
    "    ('prepare_data', transformation_pipeline),\n",
    "    ('clf_xgb', clf_xgb)\n",
    "])\n",
    "\n",
    "params_xgb = {\n",
    "    \"clf_xgb__colsample_bytree\": uniform(0.7, 0.3),\n",
    "    \"clf_xgb__gamma\": uniform(0, 0.5),\n",
    "    \"clf_xgb__learning_rate\": uniform(0.03, 0.3), # default 0.1 \n",
    "    \"clf_xgb__max_depth\": randint(2, 6), # default 3\n",
    "    \"clf_xgb__n_estimators\": randint(100, 150), # default 100\n",
    "    \"clf_xgb__subsample\": uniform(0.6, 0.4)\n",
    "}\n",
    "\n",
    "search_xgb = RandomizedSearchCV(pipeline_xgb, param_distributions=params_xgb, random_state=42, n_iter=10, cv=3, verbose=1, n_jobs=1, return_train_score=True)\n",
    "\n",
    "best_model_xgb = search_xgb.fit(X_train, y_train)\n",
    "\n",
    "y_hat_xgb = best_model_xgb.predict(X_test)\n",
    "\n",
    "# warnings.filterwarnings(action='default', category=DeprecationWarning)"
   ]
  },
  {
   "cell_type": "markdown",
   "metadata": {},
   "source": [
    "#### Examining the performance of XGBoost  "
   ]
  },
  {
   "cell_type": "code",
   "execution_count": 141,
   "metadata": {},
   "outputs": [],
   "source": [
    "from sklearn.metrics import roc_curve, roc_auc_score\n",
    "from sklearn.model_selection import train_test_split\n",
    "\n",
    "# `roc_curve` requires a y_test, so we'll split the test data as we don't have a y_test for the Kaggle data\n",
    "X_train_xgb_eval, X_test_xgb_eval, y_train_xgb_eval, y_test_xgb_eval = train_test_split(X_train, y_train, test_size=0.2, random_state=42)\n",
    "\n",
    "clf_xgb = xgb.XGBClassifier(objective=\"binary:logistic\", random_state=42)\n",
    "\n",
    "pipeline_xgb = Pipeline([\n",
    "    ('prepare_data', transformation_pipeline),\n",
    "    ('clf_xgb', clf_xgb)\n",
    "])\n",
    "\n",
    "pipeline_xgb.fit(X_train_xgb_eval, y_train_xgb_eval)\n",
    "\n",
    "y_hat_vals_xgb = pipeline_xgb.predict(X_test_xgb_eval)\n",
    "y_hat_prob_xgb = pipeline_xgb.predict_proba(X_test_xgb_eval)"
   ]
  },
  {
   "cell_type": "code",
   "execution_count": 168,
   "metadata": {},
   "outputs": [],
   "source": [
    "from sklearn.metrics import accuracy_score, f1_score, precision_score, recall_score\n",
    "\n",
    "def print_scores(y_true, y_pred):   \n",
    "    accuracy = accuracy_score(y_true, y_pred)\n",
    "\n",
    "    # the fraction of prediced positive events that are actually positive\n",
    "    precision = precision_score(y_true, y_pred)\n",
    "\n",
    "    # the fraction of positive events that were predicted correctly, a.k.a. sensitivity\n",
    "    recall = recall_score(y_true, y_pred)\n",
    "\n",
    "    # the harmonic mean of recall and precision, higher is better\n",
    "    f1 = f1_score(y_true, y_pred)\n",
    " \n",
    "    print(\"accuracy: {:.3f}\\nprecision: {:.3f}\\nrecall: {:.3f}\\nf1: {:.3f}\".format(accuracy, precision, recall, f1))"
   ]
  },
  {
   "cell_type": "code",
   "execution_count": 169,
   "metadata": {},
   "outputs": [],
   "source": [
    "def plot_roc_curve(fpr, tpr, roc_auc):\n",
    "    plt.figure(figsize=(12, 8))\n",
    "    plt.plot(fpr, tpr, \"b-\", label=\"XGBoost AUC: {0:.3f}\".format(roc_auc))\n",
    "    plt.plot([0, 0, 1, 1], [0, 1, 1, 1], \"g-\", label=\"Perfect\")\n",
    "    plt.plot([0, 1], [0, 1], \"k--\", label=\"Random\")\n",
    "    plt.xlabel(\"False Positive Rate (1 - Specificity)\", size=16)\n",
    "    plt.ylabel(\"True Positive Rate (Sensitivity)\", size=16)\n",
    "    plt.title(\"ROC curve\", size=20)\n",
    "    plt.legend(fontsize=14);"
   ]
  },
  {
   "cell_type": "code",
   "execution_count": 170,
   "metadata": {},
   "outputs": [],
   "source": [
    "import itertools\n",
    "from sklearn.metrics import confusion_matrix\n",
    "\n",
    "matrix = confusion_matrix(y_test_xgb_eval.values, y_hat_vals_xgb)\n",
    "\n",
    "def plot_confusion_matrix(cm, classes,\n",
    "                          normalize=False,\n",
    "                          title='Confusion matrix',\n",
    "                          cmap=plt.cm.Blues):\n",
    "    \"\"\"\n",
    "    This function prints and plots the confusion matrix.\n",
    "    Normalization can be applied by setting `normalize=True`.\n",
    "    \"\"\"\n",
    "    if normalize:\n",
    "        cm = cm.astype('float') / cm.sum(axis=1)[:, np.newaxis]\n",
    "        print(\"Normalized confusion matrix\")\n",
    "    else:\n",
    "        print('Confusion matrix, without normalization')\n",
    "\n",
    "    print(cm)\n",
    "\n",
    "    plt.imshow(cm, interpolation='nearest', cmap=cmap)\n",
    "    plt.title(title)\n",
    "    plt.colorbar()\n",
    "    tick_marks = np.arange(len(classes))\n",
    "    plt.xticks(tick_marks, classes, rotation=45)\n",
    "    plt.yticks(tick_marks, classes)\n",
    "\n",
    "    fmt = '.2f' if normalize else 'd'\n",
    "    thresh = cm.max() / 2.\n",
    "    for i, j in itertools.product(range(cm.shape[0]), range(cm.shape[1])):\n",
    "        plt.text(j, i, format(cm[i, j], fmt),\n",
    "                 horizontalalignment=\"center\",\n",
    "                 color=\"white\" if cm[i, j] > thresh else \"black\")\n",
    "\n",
    "    plt.tight_layout()\n",
    "    plt.ylabel('Actual')\n",
    "    plt.xlabel('Predicted')  "
   ]
  },
  {
   "cell_type": "code",
   "execution_count": 171,
   "metadata": {},
   "outputs": [
    {
     "name": "stdout",
     "output_type": "stream",
     "text": [
      "accuracy: 0.816\n",
      "precision: 0.806\n",
      "recall: 0.730\n",
      "f1: 0.766\n"
     ]
    }
   ],
   "source": [
    "print_scores(y_test_xgb_eval.values, y_hat_vals_xgb)"
   ]
  },
  {
   "cell_type": "code",
   "execution_count": 172,
   "metadata": {},
   "outputs": [
    {
     "data": {
      "image/png": "[encoded data removed]",
      "text/plain": [
       "<Figure size 864x576 with 1 Axes>"
      ]
     },
     "metadata": {},
     "output_type": "display_data"
    }
   ],
   "source": [
    "fpr, tpr, thresholds = roc_curve(y_test_xgb_eval.values, y_hat_prob_xgb[:, 1])\n",
    "roc_auc = roc_auc_score(y_test_xgb_eval.values, y_hat_prob_xgb[:, 1])\n",
    "\n",
    "plot_roc_curve(fpr, tpr, roc_auc)"
   ]
  },
  {
   "cell_type": "code",
   "execution_count": 173,
   "metadata": {},
   "outputs": [
    {
     "name": "stdout",
     "output_type": "stream",
     "text": [
      "Confusion matrix, without normalization\n",
      "[[92 13]\n",
      " [20 54]]\n"
     ]
    },
    {
     "data": {
      "image/png": "[encoded data removed]",
      "text/plain": [
       "<Figure size 432x288 with 2 Axes>"
      ]
     },
     "metadata": {},
     "output_type": "display_data"
    }
   ],
   "source": [
    "plot_confusion_matrix(matrix, classes=[\"Dead\", \"Alive\"], normalize=False)  "
   ]
  },
  {
   "cell_type": "markdown",
   "metadata": {},
   "source": [
    "## Evaluate"
   ]
  },
  {
   "cell_type": "markdown",
   "metadata": {},
   "source": [
    "Plot the feature coefficients"
   ]
  },
  {
   "cell_type": "code",
   "execution_count": 267,
   "metadata": {},
   "outputs": [],
   "source": [
    "coefficients = pd.Series(clf_svc.coef_[0], X_train.columns).sort_values()"
   ]
  },
  {
   "cell_type": "code",
   "execution_count": 258,
   "metadata": {},
   "outputs": [
    {
     "data": {
      "text/plain": [
       "<matplotlib.axes._subplots.AxesSubplot at 0x1a0cce069e8>"
      ]
     },
     "execution_count": 258,
     "metadata": {},
     "output_type": "execute_result"
    },
    {
     "data": {
      "image/png": "[encoded data removed]",
      "text/plain": [
       "<Figure size 432x288 with 1 Axes>"
      ]
     },
     "metadata": {},
     "output_type": "display_data"
    }
   ],
   "source": [
    "coefficients.plot(kind='bar', title='Feature coefficients')"
   ]
  },
  {
   "cell_type": "markdown",
   "metadata": {},
   "source": [
    "View the R^2 on the training dataset"
   ]
  },
  {
   "cell_type": "code",
   "execution_count": 259,
   "metadata": {},
   "outputs": [
    {
     "data": {
      "text/plain": [
       "0.8327721661054994"
      ]
     },
     "execution_count": 259,
     "metadata": {},
     "output_type": "execute_result"
    }
   ],
   "source": [
    "r_square_train = clf_svc.score(X_train, y_train)\n",
    "r_square_train"
   ]
  },
  {
   "cell_type": "markdown",
   "metadata": {},
   "source": [
    "## Submit"
   ]
  },
  {
   "cell_type": "markdown",
   "metadata": {},
   "source": [
    "Create submission"
   ]
  },
  {
   "cell_type": "code",
   "execution_count": 93,
   "metadata": {},
   "outputs": [],
   "source": [
    "submission = pd.DataFrame({\n",
    "  \"PassengerId\": X_test.index,\n",
    "  \"Survived\": y_hat_xgb\n",
    "})"
   ]
  },
  {
   "cell_type": "code",
   "execution_count": 94,
   "metadata": {},
   "outputs": [],
   "source": [
    "submission.to_csv(\"../datasets/kaggle/titanic/submission.csv\", index=False)"
   ]
  },
  {
   "cell_type": "markdown",
   "metadata": {},
   "source": [
    "Submit using the Kaggle CLI"
   ]
  },
  {
   "cell_type": "code",
   "execution_count": 95,
   "metadata": {},
   "outputs": [
    {
     "name": "stdout",
     "output_type": "stream",
     "text": [
      "Warning: Looks like you're using an outdated API Version, please consider updating (server 1.4.7.1 / client 1.4.5)\n",
      "Successfully submitted to Titanic: Machine Learning from Disaster\n"
     ]
    }
   ],
   "source": [
    "!kaggle competitions submit -c titanic -f ../datasets/kaggle/titanic/submission.csv -m \"pipeline xgb\"`"
   ]
  },
  {
   "cell_type": "markdown",
   "metadata": {},
   "source": [
    "Jump to the [leaderboard](https://www.kaggle.com/c/titanic/leaderboard) to see the score and ranking"
   ]
  },
  {
   "cell_type": "markdown",
   "metadata": {},
   "source": [
    "# Summary"
   ]
  },
  {
   "cell_type": "markdown",
   "metadata": {},
   "source": [
    "| Model              | Notes                            | Model score | Kaggle score   | Leaderboard |\n",
    "| ------------------ | -------------------------------- | ----------- | -------------- | ----------- |\n",
    "| `LinearSVC`        | Bare bones feature engineering   |     0.79910 |        0.77033 |       6,981 |\n",
    "| `LinearSVC`        | Added Title and 1-hot encoded it |     0.82940 |        0.78947 |       3,587 |\n",
    "| `LinearSVC`        | Added FamilySize feature         |     0.83277 |        0.78947 |       3,507 |\n",
    "| `DecisionTree`     | Using a decision tree model      |             |        0.79425 |       2,493 |\n",
    "| `RandomForrest`    | With grid search                 |     0.83501 |        0.79904 |       1,764 |\n",
    "|                    |                                  |             |                |             |\n",
    "|                    |                                  |             |                |             |\n",
    "|                    |                                  |             |                |             |\n",
    "|                    |                                  |             |                |             |\n",
    "|                    |                                  |             |                |             |\n",
    "|                    |                                  |             |                |             |\n",
    "|                    |                                  |             |                |             |\n",
    "|                    |                                  |             |                |             |\n",
    "\n"
   ]
  },
  {
   "cell_type": "code",
   "execution_count": null,
   "metadata": {},
   "outputs": [],
   "source": []
  },
  {
   "cell_type": "markdown",
   "metadata": {},
   "source": [
    "Show sco"
   ]
  }
 ],
 "metadata": {
  "kernelspec": {
   "display_name": "Python 3",
   "language": "python",
   "name": "python3"
  },
  "language_info": {
   "codemirror_mode": {
    "name": "ipython",
    "version": 3
   },
   "file_extension": ".py",
   "mimetype": "text/x-python",
   "name": "python",
   "nbconvert_exporter": "python",
   "pygments_lexer": "ipython3",
   "version": "3.6.6"
  }
 },
 "nbformat": 4,
 "nbformat_minor": 2
}
