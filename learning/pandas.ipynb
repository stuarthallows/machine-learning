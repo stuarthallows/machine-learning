{
 "cells": [
  {
   "cell_type": "markdown",
   "metadata": {},
   "source": [
    "File contains a number of useful pandas code snippets"
   ]
  },
  {
   "cell_type": "code",
   "execution_count": 3,
   "metadata": {
    "collapsed": true
   },
   "outputs": [],
   "source": [
    "import pandas as pd\n",
    "import numpy as np"
   ]
  },
  {
   "cell_type": "markdown",
   "metadata": {},
   "source": [
    "http://pandas.pydata.org/pandas-docs/stable/10min.html#selection-by-label"
   ]
  },
  {
   "cell_type": "code",
   "execution_count": 8,
   "metadata": {},
   "outputs": [
    {
     "data": {
      "text/plain": [
       "0    1.0\n",
       "1    3.0\n",
       "2    5.0\n",
       "3    NaN\n",
       "4    6.0\n",
       "5    8.0\n",
       "dtype: float64"
      ]
     },
     "execution_count": 8,
     "metadata": {},
     "output_type": "execute_result"
    }
   ],
   "source": [
    "s = pd.Series([1,3,5,np.nan,6,8])\n",
    "s"
   ]
  },
  {
   "cell_type": "code",
   "execution_count": 9,
   "metadata": {},
   "outputs": [
    {
     "data": {
      "text/plain": [
       "DatetimeIndex(['2013-01-01', '2013-01-02', '2013-01-03', '2013-01-04',\n",
       "               '2013-01-05', '2013-01-06'],\n",
       "              dtype='datetime64[ns]', freq='D')"
      ]
     },
     "execution_count": 9,
     "metadata": {},
     "output_type": "execute_result"
    }
   ],
   "source": [
    "dates = pd.date_range('20130101', periods=6)\n",
    "dates"
   ]
  },
  {
   "cell_type": "code",
   "execution_count": 11,
   "metadata": {},
   "outputs": [
    {
     "data": {
      "text/html": [
       "<div>\n",
       "<style>\n",
       "    .dataframe thead tr:only-child th {\n",
       "        text-align: right;\n",
       "    }\n",
       "\n",
       "    .dataframe thead th {\n",
       "        text-align: left;\n",
       "    }\n",
       "\n",
       "    .dataframe tbody tr th {\n",
       "        vertical-align: top;\n",
       "    }\n",
       "</style>\n",
       "<table border=\"1\" class=\"dataframe\">\n",
       "  <thead>\n",
       "    <tr style=\"text-align: right;\">\n",
       "      <th></th>\n",
       "      <th>A</th>\n",
       "      <th>B</th>\n",
       "      <th>C</th>\n",
       "      <th>D</th>\n",
       "    </tr>\n",
       "  </thead>\n",
       "  <tbody>\n",
       "    <tr>\n",
       "      <th>2013-01-01</th>\n",
       "      <td>1.165561</td>\n",
       "      <td>0.448341</td>\n",
       "      <td>-0.248827</td>\n",
       "      <td>0.979951</td>\n",
       "    </tr>\n",
       "    <tr>\n",
       "      <th>2013-01-02</th>\n",
       "      <td>-1.099510</td>\n",
       "      <td>0.961390</td>\n",
       "      <td>-1.072249</td>\n",
       "      <td>-1.501110</td>\n",
       "    </tr>\n",
       "    <tr>\n",
       "      <th>2013-01-03</th>\n",
       "      <td>1.753232</td>\n",
       "      <td>-0.652820</td>\n",
       "      <td>0.041607</td>\n",
       "      <td>0.585780</td>\n",
       "    </tr>\n",
       "    <tr>\n",
       "      <th>2013-01-04</th>\n",
       "      <td>-0.348810</td>\n",
       "      <td>0.991584</td>\n",
       "      <td>-0.734630</td>\n",
       "      <td>1.588324</td>\n",
       "    </tr>\n",
       "    <tr>\n",
       "      <th>2013-01-05</th>\n",
       "      <td>0.137391</td>\n",
       "      <td>0.251549</td>\n",
       "      <td>0.137670</td>\n",
       "      <td>0.573410</td>\n",
       "    </tr>\n",
       "    <tr>\n",
       "      <th>2013-01-06</th>\n",
       "      <td>-0.258865</td>\n",
       "      <td>-1.729995</td>\n",
       "      <td>0.695200</td>\n",
       "      <td>-0.079788</td>\n",
       "    </tr>\n",
       "  </tbody>\n",
       "</table>\n",
       "</div>"
      ],
      "text/plain": [
       "                   A         B         C         D\n",
       "2013-01-01  1.165561  0.448341 -0.248827  0.979951\n",
       "2013-01-02 -1.099510  0.961390 -1.072249 -1.501110\n",
       "2013-01-03  1.753232 -0.652820  0.041607  0.585780\n",
       "2013-01-04 -0.348810  0.991584 -0.734630  1.588324\n",
       "2013-01-05  0.137391  0.251549  0.137670  0.573410\n",
       "2013-01-06 -0.258865 -1.729995  0.695200 -0.079788"
      ]
     },
     "execution_count": 11,
     "metadata": {},
     "output_type": "execute_result"
    }
   ],
   "source": [
    "df = pd.DataFrame(np.random.randn(6,4), index=dates, columns=list('ABCD'))\n",
    "df"
   ]
  },
  {
   "cell_type": "code",
   "execution_count": 23,
   "metadata": {},
   "outputs": [
    {
     "data": {
      "text/plain": [
       "DatetimeIndex(['2013-01-01', '2013-01-02', '2013-01-03', '2013-01-04',\n",
       "               '2013-01-05', '2013-01-06'],\n",
       "              dtype='datetime64[ns]', freq='D')"
      ]
     },
     "execution_count": 23,
     "metadata": {},
     "output_type": "execute_result"
    }
   ],
   "source": [
    "df.index"
   ]
  },
  {
   "cell_type": "code",
   "execution_count": 21,
   "metadata": {},
   "outputs": [
    {
     "data": {
      "text/plain": [
       "Index(['A', 'B', 'C', 'D'], dtype='object')"
      ]
     },
     "execution_count": 21,
     "metadata": {},
     "output_type": "execute_result"
    }
   ],
   "source": [
    "df.columns"
   ]
  },
  {
   "cell_type": "code",
   "execution_count": 22,
   "metadata": {},
   "outputs": [
    {
     "data": {
      "text/plain": [
       "array([[ 1.16556072,  0.44834103, -0.2488271 ,  0.97995104],\n",
       "       [-1.09951019,  0.9613897 , -1.07224927, -1.50110961],\n",
       "       [ 1.75323207, -0.65282035,  0.04160718,  0.5857804 ],\n",
       "       [-0.34880994,  0.99158422, -0.73462963,  1.58832429],\n",
       "       [ 0.13739135,  0.25154917,  0.13766994,  0.57340954],\n",
       "       [-0.2588651 , -1.72999514,  0.69519981, -0.07978794]])"
      ]
     },
     "execution_count": 22,
     "metadata": {},
     "output_type": "execute_result"
    }
   ],
   "source": [
    "df.values"
   ]
  },
  {
   "cell_type": "code",
   "execution_count": 24,
   "metadata": {},
   "outputs": [
    {
     "data": {
      "text/html": [
       "<div>\n",
       "<style>\n",
       "    .dataframe thead tr:only-child th {\n",
       "        text-align: right;\n",
       "    }\n",
       "\n",
       "    .dataframe thead th {\n",
       "        text-align: left;\n",
       "    }\n",
       "\n",
       "    .dataframe tbody tr th {\n",
       "        vertical-align: top;\n",
       "    }\n",
       "</style>\n",
       "<table border=\"1\" class=\"dataframe\">\n",
       "  <thead>\n",
       "    <tr style=\"text-align: right;\">\n",
       "      <th></th>\n",
       "      <th>A</th>\n",
       "      <th>B</th>\n",
       "      <th>C</th>\n",
       "      <th>D</th>\n",
       "    </tr>\n",
       "  </thead>\n",
       "  <tbody>\n",
       "    <tr>\n",
       "      <th>count</th>\n",
       "      <td>6.000000</td>\n",
       "      <td>6.000000</td>\n",
       "      <td>6.000000</td>\n",
       "      <td>6.000000</td>\n",
       "    </tr>\n",
       "    <tr>\n",
       "      <th>mean</th>\n",
       "      <td>0.224833</td>\n",
       "      <td>0.045008</td>\n",
       "      <td>-0.196872</td>\n",
       "      <td>0.357761</td>\n",
       "    </tr>\n",
       "    <tr>\n",
       "      <th>std</th>\n",
       "      <td>1.053141</td>\n",
       "      <td>1.056286</td>\n",
       "      <td>0.636043</td>\n",
       "      <td>1.062709</td>\n",
       "    </tr>\n",
       "    <tr>\n",
       "      <th>min</th>\n",
       "      <td>-1.099510</td>\n",
       "      <td>-1.729995</td>\n",
       "      <td>-1.072249</td>\n",
       "      <td>-1.501110</td>\n",
       "    </tr>\n",
       "    <tr>\n",
       "      <th>25%</th>\n",
       "      <td>-0.326324</td>\n",
       "      <td>-0.426728</td>\n",
       "      <td>-0.613179</td>\n",
       "      <td>0.083511</td>\n",
       "    </tr>\n",
       "    <tr>\n",
       "      <th>50%</th>\n",
       "      <td>-0.060737</td>\n",
       "      <td>0.349945</td>\n",
       "      <td>-0.103610</td>\n",
       "      <td>0.579595</td>\n",
       "    </tr>\n",
       "    <tr>\n",
       "      <th>75%</th>\n",
       "      <td>0.908518</td>\n",
       "      <td>0.833128</td>\n",
       "      <td>0.113654</td>\n",
       "      <td>0.881408</td>\n",
       "    </tr>\n",
       "    <tr>\n",
       "      <th>max</th>\n",
       "      <td>1.753232</td>\n",
       "      <td>0.991584</td>\n",
       "      <td>0.695200</td>\n",
       "      <td>1.588324</td>\n",
       "    </tr>\n",
       "  </tbody>\n",
       "</table>\n",
       "</div>"
      ],
      "text/plain": [
       "              A         B         C         D\n",
       "count  6.000000  6.000000  6.000000  6.000000\n",
       "mean   0.224833  0.045008 -0.196872  0.357761\n",
       "std    1.053141  1.056286  0.636043  1.062709\n",
       "min   -1.099510 -1.729995 -1.072249 -1.501110\n",
       "25%   -0.326324 -0.426728 -0.613179  0.083511\n",
       "50%   -0.060737  0.349945 -0.103610  0.579595\n",
       "75%    0.908518  0.833128  0.113654  0.881408\n",
       "max    1.753232  0.991584  0.695200  1.588324"
      ]
     },
     "execution_count": 24,
     "metadata": {},
     "output_type": "execute_result"
    }
   ],
   "source": [
    "df.describe()"
   ]
  },
  {
   "cell_type": "code",
   "execution_count": 26,
   "metadata": {},
   "outputs": [
    {
     "data": {
      "text/html": [
       "<div>\n",
       "<style>\n",
       "    .dataframe thead tr:only-child th {\n",
       "        text-align: right;\n",
       "    }\n",
       "\n",
       "    .dataframe thead th {\n",
       "        text-align: left;\n",
       "    }\n",
       "\n",
       "    .dataframe tbody tr th {\n",
       "        vertical-align: top;\n",
       "    }\n",
       "</style>\n",
       "<table border=\"1\" class=\"dataframe\">\n",
       "  <thead>\n",
       "    <tr style=\"text-align: right;\">\n",
       "      <th></th>\n",
       "      <th>D</th>\n",
       "      <th>C</th>\n",
       "      <th>B</th>\n",
       "      <th>A</th>\n",
       "    </tr>\n",
       "  </thead>\n",
       "  <tbody>\n",
       "    <tr>\n",
       "      <th>2013-01-01</th>\n",
       "      <td>0.979951</td>\n",
       "      <td>-0.248827</td>\n",
       "      <td>0.448341</td>\n",
       "      <td>1.165561</td>\n",
       "    </tr>\n",
       "    <tr>\n",
       "      <th>2013-01-02</th>\n",
       "      <td>-1.501110</td>\n",
       "      <td>-1.072249</td>\n",
       "      <td>0.961390</td>\n",
       "      <td>-1.099510</td>\n",
       "    </tr>\n",
       "    <tr>\n",
       "      <th>2013-01-03</th>\n",
       "      <td>0.585780</td>\n",
       "      <td>0.041607</td>\n",
       "      <td>-0.652820</td>\n",
       "      <td>1.753232</td>\n",
       "    </tr>\n",
       "    <tr>\n",
       "      <th>2013-01-04</th>\n",
       "      <td>1.588324</td>\n",
       "      <td>-0.734630</td>\n",
       "      <td>0.991584</td>\n",
       "      <td>-0.348810</td>\n",
       "    </tr>\n",
       "    <tr>\n",
       "      <th>2013-01-05</th>\n",
       "      <td>0.573410</td>\n",
       "      <td>0.137670</td>\n",
       "      <td>0.251549</td>\n",
       "      <td>0.137391</td>\n",
       "    </tr>\n",
       "    <tr>\n",
       "      <th>2013-01-06</th>\n",
       "      <td>-0.079788</td>\n",
       "      <td>0.695200</td>\n",
       "      <td>-1.729995</td>\n",
       "      <td>-0.258865</td>\n",
       "    </tr>\n",
       "  </tbody>\n",
       "</table>\n",
       "</div>"
      ],
      "text/plain": [
       "                   D         C         B         A\n",
       "2013-01-01  0.979951 -0.248827  0.448341  1.165561\n",
       "2013-01-02 -1.501110 -1.072249  0.961390 -1.099510\n",
       "2013-01-03  0.585780  0.041607 -0.652820  1.753232\n",
       "2013-01-04  1.588324 -0.734630  0.991584 -0.348810\n",
       "2013-01-05  0.573410  0.137670  0.251549  0.137391\n",
       "2013-01-06 -0.079788  0.695200 -1.729995 -0.258865"
      ]
     },
     "execution_count": 26,
     "metadata": {},
     "output_type": "execute_result"
    }
   ],
   "source": [
    "df.sort_index(axis=1, ascending=False)"
   ]
  },
  {
   "cell_type": "code",
   "execution_count": 27,
   "metadata": {},
   "outputs": [
    {
     "data": {
      "text/html": [
       "<div>\n",
       "<style>\n",
       "    .dataframe thead tr:only-child th {\n",
       "        text-align: right;\n",
       "    }\n",
       "\n",
       "    .dataframe thead th {\n",
       "        text-align: left;\n",
       "    }\n",
       "\n",
       "    .dataframe tbody tr th {\n",
       "        vertical-align: top;\n",
       "    }\n",
       "</style>\n",
       "<table border=\"1\" class=\"dataframe\">\n",
       "  <thead>\n",
       "    <tr style=\"text-align: right;\">\n",
       "      <th></th>\n",
       "      <th>A</th>\n",
       "      <th>B</th>\n",
       "      <th>C</th>\n",
       "      <th>D</th>\n",
       "    </tr>\n",
       "  </thead>\n",
       "  <tbody>\n",
       "    <tr>\n",
       "      <th>2013-01-06</th>\n",
       "      <td>-0.258865</td>\n",
       "      <td>-1.729995</td>\n",
       "      <td>0.695200</td>\n",
       "      <td>-0.079788</td>\n",
       "    </tr>\n",
       "    <tr>\n",
       "      <th>2013-01-03</th>\n",
       "      <td>1.753232</td>\n",
       "      <td>-0.652820</td>\n",
       "      <td>0.041607</td>\n",
       "      <td>0.585780</td>\n",
       "    </tr>\n",
       "    <tr>\n",
       "      <th>2013-01-05</th>\n",
       "      <td>0.137391</td>\n",
       "      <td>0.251549</td>\n",
       "      <td>0.137670</td>\n",
       "      <td>0.573410</td>\n",
       "    </tr>\n",
       "    <tr>\n",
       "      <th>2013-01-01</th>\n",
       "      <td>1.165561</td>\n",
       "      <td>0.448341</td>\n",
       "      <td>-0.248827</td>\n",
       "      <td>0.979951</td>\n",
       "    </tr>\n",
       "    <tr>\n",
       "      <th>2013-01-02</th>\n",
       "      <td>-1.099510</td>\n",
       "      <td>0.961390</td>\n",
       "      <td>-1.072249</td>\n",
       "      <td>-1.501110</td>\n",
       "    </tr>\n",
       "    <tr>\n",
       "      <th>2013-01-04</th>\n",
       "      <td>-0.348810</td>\n",
       "      <td>0.991584</td>\n",
       "      <td>-0.734630</td>\n",
       "      <td>1.588324</td>\n",
       "    </tr>\n",
       "  </tbody>\n",
       "</table>\n",
       "</div>"
      ],
      "text/plain": [
       "                   A         B         C         D\n",
       "2013-01-06 -0.258865 -1.729995  0.695200 -0.079788\n",
       "2013-01-03  1.753232 -0.652820  0.041607  0.585780\n",
       "2013-01-05  0.137391  0.251549  0.137670  0.573410\n",
       "2013-01-01  1.165561  0.448341 -0.248827  0.979951\n",
       "2013-01-02 -1.099510  0.961390 -1.072249 -1.501110\n",
       "2013-01-04 -0.348810  0.991584 -0.734630  1.588324"
      ]
     },
     "execution_count": 27,
     "metadata": {},
     "output_type": "execute_result"
    }
   ],
   "source": [
    "df.sort_values(by='B')"
   ]
  },
  {
   "cell_type": "code",
   "execution_count": 28,
   "metadata": {},
   "outputs": [
    {
     "data": {
      "text/plain": [
       "2013-01-01    0.448341\n",
       "2013-01-02    0.961390\n",
       "2013-01-03   -0.652820\n",
       "2013-01-04    0.991584\n",
       "2013-01-05    0.251549\n",
       "2013-01-06   -1.729995\n",
       "Freq: D, Name: B, dtype: float64"
      ]
     },
     "execution_count": 28,
     "metadata": {},
     "output_type": "execute_result"
    }
   ],
   "source": [
    "df['B']"
   ]
  },
  {
   "cell_type": "code",
   "execution_count": null,
   "metadata": {
    "collapsed": true
   },
   "outputs": [],
   "source": []
  }
 ],
 "metadata": {
  "kernelspec": {
   "display_name": "Python 3",
   "language": "python",
   "name": "python3"
  },
  "language_info": {
   "codemirror_mode": {
    "name": "ipython",
    "version": 3
   },
   "file_extension": ".py",
   "mimetype": "text/x-python",
   "name": "python",
   "nbconvert_exporter": "python",
   "pygments_lexer": "ipython3",
   "version": "3.6.5"
  }
 },
 "nbformat": 4,
 "nbformat_minor": 2
}
